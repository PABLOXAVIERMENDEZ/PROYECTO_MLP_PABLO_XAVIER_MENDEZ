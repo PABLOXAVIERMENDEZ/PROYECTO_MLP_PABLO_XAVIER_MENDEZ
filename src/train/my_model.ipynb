{
 "cells": [
  {
   "cell_type": "markdown",
   "metadata": {},
   "source": [
    "# 1 ) DEFINICIÓN DEL PROYECTO DE MACHINE LEARNING"
   ]
  },
  {
   "cell_type": "markdown",
   "metadata": {},
   "source": [
    "## **TÍTULO**\n",
    "\n",
    "### **Optimización de modelos operativos en Telecom: Análisis Profundo de los contactos para Mejorar el CX**\n",
    "\n",
    "## **TEMA**\n",
    "\n",
    "##### **En este proyecto, llevaremos a cabo un análisis exhaustivo de las interacciones de los clientes con Telecom. Nuestro objetivo es descubrir insights a partir de un análisis profundo de los datos, correlacionando los mismo buscamos desarrollar conclusiones significativas, que no solo logren esclarecer  patrones de comportamiento de los clientes, sino que también proporcionen orientación para mejorar la experiencia del cliente de manera significativa.**\n",
    "\n",
    "#### **El objetivo preponderante es dimensionar la demanda en volumen de llamados mediante un modelo predictivo de series temporales con una regresion lineal."
   ]
  },
  {
   "cell_type": "markdown",
   "metadata": {},
   "source": [
    "## **OBTENCIÓN DE LOS DATOS**\n",
    "\n",
    "### DATASETS Y FUENTES ALTERNATIVAS DE DATOS\n",
    "\n",
    "### Mi BBDD 5.000.- interacciones es obtenida desde una fuente pública:\n",
    "\n",
    " https://www.kaggle.com/datasets/datazng/telecom-company-churn-rate-call-center-data"
   ]
  },
  {
   "cell_type": "markdown",
   "metadata": {},
   "source": [
    "# 2) IMPORTACIÓN DE LIBRERIAS"
   ]
  },
  {
   "cell_type": "code",
   "execution_count": 1,
   "metadata": {},
   "outputs": [
    {
     "name": "stdout",
     "output_type": "stream",
     "text": [
      "Requirement already satisfied: python-dateutil in c:\\users\\lucia\\appdata\\local\\programs\\python\\python312\\lib\\site-packages (2.9.0.post0)\n",
      "Requirement already satisfied: six>=1.5 in c:\\users\\lucia\\appdata\\local\\programs\\python\\python312\\lib\\site-packages (from python-dateutil) (1.16.0)\n",
      "Note: you may need to restart the kernel to use updated packages.\n"
     ]
    }
   ],
   "source": [
    "pip install python-dateutil"
   ]
  },
  {
   "cell_type": "code",
   "execution_count": 2,
   "metadata": {},
   "outputs": [],
   "source": [
    "# PARA EL TRATAMIENTO DE LOS DATOS Y MODELOS PREDICTIVOS\n",
    "import numpy as np\n",
    "import pandas as pd\n",
    "import seaborn as sns\n",
    "from sklearn.linear_model import LinearRegression\n",
    "from warnings import simplefilter\n",
    "simplefilter(\"ignore\")"
   ]
  },
  {
   "cell_type": "markdown",
   "metadata": {},
   "source": [
    "## IMPORTAMOS LA FUENTE PARA LAS FIGURAS"
   ]
  },
  {
   "cell_type": "code",
   "execution_count": 3,
   "metadata": {},
   "outputs": [],
   "source": [
    "import matplotlib.pyplot as plt\n",
    "\n",
    "plt.rc('font', size=14)\n",
    "plt.rc('axes', labelsize=14, titlesize=14)\n",
    "plt.rc('legend', fontsize=14)\n",
    "plt.rc('xtick', labelsize=10)\n",
    "plt.rc('ytick', labelsize=10)\n",
    "\n",
    "plot_params = dict(\n",
    "    color=\"0.75\",\n",
    "    style=\".-\",\n",
    "    markeredgecolor=\"0.25\",\n",
    "    markerfacecolor=\"0.25\",\n",
    "    legend=False,\n",
    ")"
   ]
  },
  {
   "cell_type": "markdown",
   "metadata": {},
   "source": [
    "## IMPORTACIÓN DEL DATASET "
   ]
  },
  {
   "cell_type": "code",
   "execution_count": 4,
   "metadata": {},
   "outputs": [],
   "source": [
    "dataset = r\"C:\\Users\\Lucia\\Desktop\\PROYECTO_MLP_PABLO_XAVIER\\PROYECTO_MLP_PABLO_XAVIER_MENDEZ\\src\\data\\process\\telecom.csv\"\n",
    "df = pd.read_csv(dataset, parse_dates=['DATE'])\n",
    "\n"
   ]
  },
  {
   "cell_type": "code",
   "execution_count": 5,
   "metadata": {},
   "outputs": [
    {
     "data": {
      "text/html": [
       "<div>\n",
       "<style scoped>\n",
       "    .dataframe tbody tr th:only-of-type {\n",
       "        vertical-align: middle;\n",
       "    }\n",
       "\n",
       "    .dataframe tbody tr th {\n",
       "        vertical-align: top;\n",
       "    }\n",
       "\n",
       "    .dataframe thead th {\n",
       "        text-align: right;\n",
       "    }\n",
       "</style>\n",
       "<table border=\"1\" class=\"dataframe\">\n",
       "  <thead>\n",
       "    <tr style=\"text-align: right;\">\n",
       "      <th></th>\n",
       "      <th>CALL ID</th>\n",
       "      <th>AGENT</th>\n",
       "      <th>DATE</th>\n",
       "      <th>DAY_OF_THE_WEEK</th>\n",
       "      <th>TIME</th>\n",
       "      <th>TOPIC</th>\n",
       "      <th>ANSWERED (Y/N)</th>\n",
       "      <th>RESOLVED</th>\n",
       "      <th>SPEED OF ANSWER IN SECONDS</th>\n",
       "      <th>AVGTALKDURATION</th>\n",
       "      <th>SATISFACTION RATING</th>\n",
       "    </tr>\n",
       "  </thead>\n",
       "  <tbody>\n",
       "    <tr>\n",
       "      <th>0</th>\n",
       "      <td>ID0033</td>\n",
       "      <td>Diane</td>\n",
       "      <td>2021-01-01</td>\n",
       "      <td>Friday</td>\n",
       "      <td>0 days 13:33:36</td>\n",
       "      <td>Technical Support</td>\n",
       "      <td>Y</td>\n",
       "      <td>Y</td>\n",
       "      <td>57.0</td>\n",
       "      <td>0 days 00:06:49</td>\n",
       "      <td>3.0</td>\n",
       "    </tr>\n",
       "    <tr>\n",
       "      <th>1</th>\n",
       "      <td>ID0056</td>\n",
       "      <td>Dan</td>\n",
       "      <td>2021-01-01</td>\n",
       "      <td>Friday</td>\n",
       "      <td>0 days 17:44:10</td>\n",
       "      <td>Streaming</td>\n",
       "      <td>Y</td>\n",
       "      <td>Y</td>\n",
       "      <td>83.0</td>\n",
       "      <td>0 days 00:06:45</td>\n",
       "      <td>4.0</td>\n",
       "    </tr>\n",
       "    <tr>\n",
       "      <th>2</th>\n",
       "      <td>ID0039</td>\n",
       "      <td>Stewart</td>\n",
       "      <td>2021-01-01</td>\n",
       "      <td>Friday</td>\n",
       "      <td>0 days 14:38:24</td>\n",
       "      <td>Contract related</td>\n",
       "      <td>Y</td>\n",
       "      <td>Y</td>\n",
       "      <td>74.0</td>\n",
       "      <td>0 days 00:06:41</td>\n",
       "      <td>1.0</td>\n",
       "    </tr>\n",
       "    <tr>\n",
       "      <th>3</th>\n",
       "      <td>ID0009</td>\n",
       "      <td>Greg</td>\n",
       "      <td>2021-01-01</td>\n",
       "      <td>Friday</td>\n",
       "      <td>0 days 11:13:55</td>\n",
       "      <td>Admin Support</td>\n",
       "      <td>Y</td>\n",
       "      <td>Y</td>\n",
       "      <td>15.0</td>\n",
       "      <td>0 days 00:06:38</td>\n",
       "      <td>4.0</td>\n",
       "    </tr>\n",
       "    <tr>\n",
       "      <th>4</th>\n",
       "      <td>ID0043</td>\n",
       "      <td>Diane</td>\n",
       "      <td>2021-01-01</td>\n",
       "      <td>Friday</td>\n",
       "      <td>0 days 14:47:02</td>\n",
       "      <td>Technical Support</td>\n",
       "      <td>Y</td>\n",
       "      <td>Y</td>\n",
       "      <td>45.0</td>\n",
       "      <td>0 days 00:06:21</td>\n",
       "      <td>3.0</td>\n",
       "    </tr>\n",
       "  </tbody>\n",
       "</table>\n",
       "</div>"
      ],
      "text/plain": [
       "  CALL ID    AGENT       DATE DAY_OF_THE_WEEK             TIME  \\\n",
       "0  ID0033    Diane 2021-01-01          Friday  0 days 13:33:36   \n",
       "1  ID0056      Dan 2021-01-01          Friday  0 days 17:44:10   \n",
       "2  ID0039  Stewart 2021-01-01          Friday  0 days 14:38:24   \n",
       "3  ID0009     Greg 2021-01-01          Friday  0 days 11:13:55   \n",
       "4  ID0043    Diane 2021-01-01          Friday  0 days 14:47:02   \n",
       "\n",
       "               TOPIC ANSWERED (Y/N) RESOLVED  SPEED OF ANSWER IN SECONDS  \\\n",
       "0  Technical Support              Y        Y                        57.0   \n",
       "1          Streaming              Y        Y                        83.0   \n",
       "2   Contract related              Y        Y                        74.0   \n",
       "3      Admin Support              Y        Y                        15.0   \n",
       "4  Technical Support              Y        Y                        45.0   \n",
       "\n",
       "   AVGTALKDURATION  SATISFACTION RATING  \n",
       "0  0 days 00:06:49                  3.0  \n",
       "1  0 days 00:06:45                  4.0  \n",
       "2  0 days 00:06:41                  1.0  \n",
       "3  0 days 00:06:38                  4.0  \n",
       "4  0 days 00:06:21                  3.0  "
      ]
     },
     "execution_count": 5,
     "metadata": {},
     "output_type": "execute_result"
    }
   ],
   "source": [
    "df.head()"
   ]
  },
  {
   "cell_type": "code",
   "execution_count": 6,
   "metadata": {},
   "outputs": [
    {
     "name": "stdout",
     "output_type": "stream",
     "text": [
      "<class 'pandas.core.frame.DataFrame'>\n",
      "RangeIndex: 5000 entries, 0 to 4999\n",
      "Data columns (total 11 columns):\n",
      " #   Column                      Non-Null Count  Dtype         \n",
      "---  ------                      --------------  -----         \n",
      " 0   CALL ID                     5000 non-null   object        \n",
      " 1   AGENT                       5000 non-null   object        \n",
      " 2   DATE                        5000 non-null   datetime64[ns]\n",
      " 3   DAY_OF_THE_WEEK             5000 non-null   object        \n",
      " 4   TIME                        5000 non-null   object        \n",
      " 5   TOPIC                       5000 non-null   object        \n",
      " 6   ANSWERED (Y/N)              5000 non-null   object        \n",
      " 7   RESOLVED                    5000 non-null   object        \n",
      " 8   SPEED OF ANSWER IN SECONDS  4054 non-null   float64       \n",
      " 9   AVGTALKDURATION             5000 non-null   object        \n",
      " 10  SATISFACTION RATING         4054 non-null   float64       \n",
      "dtypes: datetime64[ns](1), float64(2), object(8)\n",
      "memory usage: 429.8+ KB\n"
     ]
    }
   ],
   "source": [
    "df.info()"
   ]
  },
  {
   "cell_type": "markdown",
   "metadata": {},
   "source": [
    "## Intento Modelo N°1"
   ]
  },
  {
   "cell_type": "markdown",
   "metadata": {},
   "source": [
    "### CREACION DE UN NUEVO DATAFRAME CON EL DETALLE DE LA CANTIDAD DE LLAMADAS POR DÍA"
   ]
  },
  {
   "cell_type": "code",
   "execution_count": 7,
   "metadata": {},
   "outputs": [
    {
     "data": {
      "text/html": [
       "<div>\n",
       "<style scoped>\n",
       "    .dataframe tbody tr th:only-of-type {\n",
       "        vertical-align: middle;\n",
       "    }\n",
       "\n",
       "    .dataframe tbody tr th {\n",
       "        vertical-align: top;\n",
       "    }\n",
       "\n",
       "    .dataframe thead th {\n",
       "        text-align: right;\n",
       "    }\n",
       "</style>\n",
       "<table border=\"1\" class=\"dataframe\">\n",
       "  <thead>\n",
       "    <tr style=\"text-align: right;\">\n",
       "      <th></th>\n",
       "      <th>CALLS</th>\n",
       "    </tr>\n",
       "    <tr>\n",
       "      <th>DATE</th>\n",
       "      <th></th>\n",
       "    </tr>\n",
       "  </thead>\n",
       "  <tbody>\n",
       "    <tr>\n",
       "      <th>2021-01-01</th>\n",
       "      <td>58</td>\n",
       "    </tr>\n",
       "    <tr>\n",
       "      <th>2021-01-02</th>\n",
       "      <td>60</td>\n",
       "    </tr>\n",
       "    <tr>\n",
       "      <th>2021-01-03</th>\n",
       "      <td>58</td>\n",
       "    </tr>\n",
       "    <tr>\n",
       "      <th>2021-01-04</th>\n",
       "      <td>54</td>\n",
       "    </tr>\n",
       "    <tr>\n",
       "      <th>2021-01-05</th>\n",
       "      <td>56</td>\n",
       "    </tr>\n",
       "    <tr>\n",
       "      <th>...</th>\n",
       "      <td>...</td>\n",
       "    </tr>\n",
       "    <tr>\n",
       "      <th>2021-03-27</th>\n",
       "      <td>58</td>\n",
       "    </tr>\n",
       "    <tr>\n",
       "      <th>2021-03-28</th>\n",
       "      <td>38</td>\n",
       "    </tr>\n",
       "    <tr>\n",
       "      <th>2021-03-29</th>\n",
       "      <td>60</td>\n",
       "    </tr>\n",
       "    <tr>\n",
       "      <th>2021-03-30</th>\n",
       "      <td>25</td>\n",
       "    </tr>\n",
       "    <tr>\n",
       "      <th>2021-03-31</th>\n",
       "      <td>27</td>\n",
       "    </tr>\n",
       "  </tbody>\n",
       "</table>\n",
       "<p>90 rows × 1 columns</p>\n",
       "</div>"
      ],
      "text/plain": [
       "            CALLS\n",
       "DATE             \n",
       "2021-01-01     58\n",
       "2021-01-02     60\n",
       "2021-01-03     58\n",
       "2021-01-04     54\n",
       "2021-01-05     56\n",
       "...           ...\n",
       "2021-03-27     58\n",
       "2021-03-28     38\n",
       "2021-03-29     60\n",
       "2021-03-30     25\n",
       "2021-03-31     27\n",
       "\n",
       "[90 rows x 1 columns]"
      ]
     },
     "execution_count": 7,
     "metadata": {},
     "output_type": "execute_result"
    }
   ],
   "source": [
    "calls_per_date = df.groupby(\"DATE\").size()\n",
    "\n",
    "calls_per_date_df = pd.DataFrame(calls_per_date, columns=[\"CALLS\"])\n",
    "\n",
    "calls_per_date_df"
   ]
  },
  {
   "cell_type": "markdown",
   "metadata": {},
   "source": [
    "### Generación del index"
   ]
  },
  {
   "cell_type": "code",
   "execution_count": 8,
   "metadata": {},
   "outputs": [
    {
     "data": {
      "text/html": [
       "<div>\n",
       "<style scoped>\n",
       "    .dataframe tbody tr th:only-of-type {\n",
       "        vertical-align: middle;\n",
       "    }\n",
       "\n",
       "    .dataframe tbody tr th {\n",
       "        vertical-align: top;\n",
       "    }\n",
       "\n",
       "    .dataframe thead th {\n",
       "        text-align: right;\n",
       "    }\n",
       "</style>\n",
       "<table border=\"1\" class=\"dataframe\">\n",
       "  <thead>\n",
       "    <tr style=\"text-align: right;\">\n",
       "      <th></th>\n",
       "      <th>CALLS</th>\n",
       "      <th>time</th>\n",
       "    </tr>\n",
       "    <tr>\n",
       "      <th>DATE</th>\n",
       "      <th></th>\n",
       "      <th></th>\n",
       "    </tr>\n",
       "  </thead>\n",
       "  <tbody>\n",
       "    <tr>\n",
       "      <th>2021-01-01</th>\n",
       "      <td>58</td>\n",
       "      <td>0</td>\n",
       "    </tr>\n",
       "    <tr>\n",
       "      <th>2021-01-02</th>\n",
       "      <td>60</td>\n",
       "      <td>1</td>\n",
       "    </tr>\n",
       "    <tr>\n",
       "      <th>2021-01-03</th>\n",
       "      <td>58</td>\n",
       "      <td>2</td>\n",
       "    </tr>\n",
       "    <tr>\n",
       "      <th>2021-01-04</th>\n",
       "      <td>54</td>\n",
       "      <td>3</td>\n",
       "    </tr>\n",
       "    <tr>\n",
       "      <th>2021-01-05</th>\n",
       "      <td>56</td>\n",
       "      <td>4</td>\n",
       "    </tr>\n",
       "  </tbody>\n",
       "</table>\n",
       "</div>"
      ],
      "text/plain": [
       "            CALLS  time\n",
       "DATE                   \n",
       "2021-01-01     58     0\n",
       "2021-01-02     60     1\n",
       "2021-01-03     58     2\n",
       "2021-01-04     54     3\n",
       "2021-01-05     56     4"
      ]
     },
     "execution_count": 8,
     "metadata": {},
     "output_type": "execute_result"
    }
   ],
   "source": [
    "calls_per_date_df['time'] = np.arange(len(calls_per_date_df.index))\n",
    "\n",
    "calls_per_date_df.head()"
   ]
  },
  {
   "cell_type": "markdown",
   "metadata": {},
   "source": [
    "### grafico de la cantidad de llamados diarios y la tendencia"
   ]
  },
  {
   "cell_type": "code",
   "execution_count": 9,
   "metadata": {},
   "outputs": [
    {
     "data": {
      "image/png": "[encoded data removed]",
      "text/plain": [
       "<Figure size 640x480 with 1 Axes>"
      ]
     },
     "metadata": {},
     "output_type": "display_data"
    }
   ],
   "source": [
    "fig, ax = plt.subplots()\n",
    "ax.plot(calls_per_date_df['time'].values, calls_per_date_df['CALLS'].values, color='0.75')\n",
    "ax = sns.regplot(x='time', y='CALLS', data=calls_per_date_df, ci=None, scatter_kws=dict(color='0.25'))\n",
    "ax.set_title(' cantidad de llamadas diarias');"
   ]
  },
  {
   "cell_type": "markdown",
   "metadata": {},
   "source": [
    "## modelo Series temporales,  modelo de regresion lineal"
   ]
  },
  {
   "cell_type": "code",
   "execution_count": 10,
   "metadata": {},
   "outputs": [],
   "source": [
    "X = calls_per_date_df.loc[:, ['time']]\n",
    "y = calls_per_date_df.loc[:, 'CALLS']\n",
    "\n",
    "model = LinearRegression()\n",
    "model.fit(X, y)\n",
    "\n",
    "y_pred = pd.Series(model.predict(X), index=X.index)"
   ]
  },
  {
   "cell_type": "code",
   "execution_count": 11,
   "metadata": {},
   "outputs": [
    {
     "data": {
      "text/plain": [
       "array([-0.10445734])"
      ]
     },
     "execution_count": 11,
     "metadata": {},
     "output_type": "execute_result"
    }
   ],
   "source": [
    "model.coef_\n"
   ]
  },
  {
   "cell_type": "code",
   "execution_count": 12,
   "metadata": {},
   "outputs": [
    {
     "data": {
      "text/plain": [
       "60.20390720390721"
      ]
     },
     "execution_count": 12,
     "metadata": {},
     "output_type": "execute_result"
    }
   ],
   "source": [
    "model.intercept_"
   ]
  },
  {
   "cell_type": "code",
   "execution_count": 13,
   "metadata": {},
   "outputs": [
    {
     "data": {
      "image/png": "[encoded data removed]",
      "text/plain": [
       "<Figure size 640x480 with 1 Axes>"
      ]
     },
     "metadata": {},
     "output_type": "display_data"
    }
   ],
   "source": [
    "ax = y.plot(**plot_params)\n",
    "ax = y_pred.plot(ax=ax, linewidth=3)\n",
    "ax.set_title('cantidad de llamadas diarias');"
   ]
  },
  {
   "cell_type": "markdown",
   "metadata": {},
   "source": [
    "## lag feature"
   ]
  },
  {
   "cell_type": "code",
   "execution_count": 14,
   "metadata": {},
   "outputs": [
    {
     "data": {
      "text/html": [
       "<div>\n",
       "<style scoped>\n",
       "    .dataframe tbody tr th:only-of-type {\n",
       "        vertical-align: middle;\n",
       "    }\n",
       "\n",
       "    .dataframe tbody tr th {\n",
       "        vertical-align: top;\n",
       "    }\n",
       "\n",
       "    .dataframe thead th {\n",
       "        text-align: right;\n",
       "    }\n",
       "</style>\n",
       "<table border=\"1\" class=\"dataframe\">\n",
       "  <thead>\n",
       "    <tr style=\"text-align: right;\">\n",
       "      <th></th>\n",
       "      <th>CALLS</th>\n",
       "      <th>time</th>\n",
       "      <th>Lag_1</th>\n",
       "    </tr>\n",
       "    <tr>\n",
       "      <th>DATE</th>\n",
       "      <th></th>\n",
       "      <th></th>\n",
       "      <th></th>\n",
       "    </tr>\n",
       "  </thead>\n",
       "  <tbody>\n",
       "    <tr>\n",
       "      <th>2021-01-01</th>\n",
       "      <td>58</td>\n",
       "      <td>0</td>\n",
       "      <td>NaN</td>\n",
       "    </tr>\n",
       "    <tr>\n",
       "      <th>2021-01-02</th>\n",
       "      <td>60</td>\n",
       "      <td>1</td>\n",
       "      <td>58.0</td>\n",
       "    </tr>\n",
       "    <tr>\n",
       "      <th>2021-01-03</th>\n",
       "      <td>58</td>\n",
       "      <td>2</td>\n",
       "      <td>60.0</td>\n",
       "    </tr>\n",
       "    <tr>\n",
       "      <th>2021-01-04</th>\n",
       "      <td>54</td>\n",
       "      <td>3</td>\n",
       "      <td>58.0</td>\n",
       "    </tr>\n",
       "    <tr>\n",
       "      <th>2021-01-05</th>\n",
       "      <td>56</td>\n",
       "      <td>4</td>\n",
       "      <td>54.0</td>\n",
       "    </tr>\n",
       "  </tbody>\n",
       "</table>\n",
       "</div>"
      ],
      "text/plain": [
       "            CALLS  time  Lag_1\n",
       "DATE                          \n",
       "2021-01-01     58     0    NaN\n",
       "2021-01-02     60     1   58.0\n",
       "2021-01-03     58     2   60.0\n",
       "2021-01-04     54     3   58.0\n",
       "2021-01-05     56     4   54.0"
      ]
     },
     "execution_count": 14,
     "metadata": {},
     "output_type": "execute_result"
    }
   ],
   "source": [
    "calls_per_date_df['Lag_1'] = calls_per_date_df['CALLS'].shift(1)\n",
    "calls_per_date_df.head()"
   ]
  },
  {
   "cell_type": "code",
   "execution_count": 15,
   "metadata": {},
   "outputs": [],
   "source": [
    "\n",
    "from sklearn.linear_model import LinearRegression\n",
    "\n",
    "X = calls_per_date_df.loc[:, ['Lag_1']]\n",
    "\n",
    "X.dropna(inplace=True) \n",
    "\n",
    "y = calls_per_date_df.loc[:, 'CALLS']\n",
    "\n",
    "y, X = y.align(X, join='inner')\n",
    "\n",
    "model = LinearRegression()\n",
    "\n",
    "model.fit(X, y)\n",
    "\n",
    "y_pred = pd.Series(model.predict(X), index=X.index)"
   ]
  },
  {
   "cell_type": "code",
   "execution_count": 16,
   "metadata": {},
   "outputs": [
    {
     "data": {
      "text/plain": [
       "Text(0.5, 1.0, 'Lag Plot llamadas por día')"
      ]
     },
     "execution_count": 16,
     "metadata": {},
     "output_type": "execute_result"
    },
    {
     "data": {
      "image/png": "[encoded data removed]",
      "text/plain": [
       "<Figure size 640x480 with 1 Axes>"
      ]
     },
     "metadata": {},
     "output_type": "display_data"
    }
   ],
   "source": [
    "fig, ax = plt.subplots()\n",
    "ax.plot(X['Lag_1'].values, y.values, '.', color='0.25')\n",
    "ax.plot(X['Lag_1'].values, y_pred.values)\n",
    "ax.set_aspect('equal')\n",
    "ax.set_ylabel('CALLS')\n",
    "ax.set_xlabel('Lag_1')\n",
    "ax.set_title('Lag Plot llamadas por día')"
   ]
  },
  {
   "cell_type": "code",
   "execution_count": 17,
   "metadata": {},
   "outputs": [
    {
     "data": {
      "image/png": "[encoded data removed]",
      "text/plain": [
       "<Figure size 1000x600 with 1 Axes>"
      ]
     },
     "metadata": {},
     "output_type": "display_data"
    }
   ],
   "source": [
    "plt.figure(figsize=(10,6))\n",
    "ax = y.plot(**plot_params)\n",
    "ax = y_pred.plot()"
   ]
  },
  {
   "cell_type": "code",
   "execution_count": 18,
   "metadata": {},
   "outputs": [
    {
     "data": {
      "text/plain": [
       "DATE\n",
       "2021-01-02    55.723751\n",
       "2021-01-03    55.908025\n",
       "2021-01-04    55.723751\n",
       "2021-01-05    55.355204\n",
       "2021-01-06    55.539478\n",
       "                ...    \n",
       "2021-03-27    55.355204\n",
       "2021-03-28    55.723751\n",
       "2021-03-29    53.881013\n",
       "2021-03-30    55.908025\n",
       "2021-03-31    52.683233\n",
       "Length: 89, dtype: float64"
      ]
     },
     "execution_count": 18,
     "metadata": {},
     "output_type": "execute_result"
    }
   ],
   "source": [
    "y_pred"
   ]
  },
  {
   "cell_type": "markdown",
   "metadata": {},
   "source": [
    "___________________________"
   ]
  },
  {
   "cell_type": "markdown",
   "metadata": {},
   "source": [
    "## Intento Mejora de Modelo N°2"
   ]
  },
  {
   "cell_type": "code",
   "execution_count": 19,
   "metadata": {},
   "outputs": [],
   "source": [
    "dataset = r\"C:\\Users\\Lucia\\Desktop\\PROYECTO_MLP_PABLO_XAVIER\\PROYECTO_MLP_PABLO_XAVIER_MENDEZ\\src\\data\\process\\telecom.csv\"\n",
    "df = pd.read_csv(dataset, parse_dates=['DATE'])"
   ]
  },
  {
   "cell_type": "code",
   "execution_count": 20,
   "metadata": {},
   "outputs": [
    {
     "name": "stdout",
     "output_type": "stream",
     "text": [
      "            CALLS\n",
      "DATE             \n",
      "2021-01-01     58\n",
      "2021-01-02     60\n",
      "2021-01-03     58\n",
      "2021-01-04     54\n",
      "2021-01-05     56\n",
      "...           ...\n",
      "2021-03-27     58\n",
      "2021-03-28     38\n",
      "2021-03-29     60\n",
      "2021-03-30     25\n",
      "2021-03-31     27\n",
      "\n",
      "[90 rows x 1 columns]\n"
     ]
    }
   ],
   "source": [
    "import pandas as pd\n",
    "\n",
    "calls_per_date_df = pd.DataFrame(calls_per_date, columns=[\"CALLS\"])\n",
    "\n",
    "calls_per_date_df.index = pd.to_datetime(calls_per_date_df.index).to_period('D')\n",
    "\n",
    "print(calls_per_date_df)"
   ]
  },
  {
   "cell_type": "markdown",
   "metadata": {},
   "source": [
    "### Aplicamos un grafico de medias moviles"
   ]
  },
  {
   "cell_type": "code",
   "execution_count": 21,
   "metadata": {},
   "outputs": [
    {
     "data": {
      "text/plain": [
       "<Axes: title={'center': 'llamadas diarias - 90 -Day Moving Average'}, xlabel='DATE'>"
      ]
     },
     "execution_count": 21,
     "metadata": {},
     "output_type": "execute_result"
    },
    {
     "data": {
      "image/png": "[encoded data removed]",
      "text/plain": [
       "<Figure size 640x480 with 1 Axes>"
      ]
     },
     "metadata": {},
     "output_type": "display_data"
    }
   ],
   "source": [
    "moving_average = calls_per_date_df.rolling(\n",
    "    window=90,       \n",
    "    center=True,      \n",
    "    min_periods=45,  \n",
    ").mean()              \n",
    "\n",
    "ax = calls_per_date_df.plot(style=\".\", color=\"0.5\")\n",
    "moving_average.plot(\n",
    "    ax=ax, linewidth=3, title=\"llamadas diarias - 90 -Day Moving Average\", legend=False,)"
   ]
  },
  {
   "cell_type": "code",
   "execution_count": 22,
   "metadata": {},
   "outputs": [
    {
     "data": {
      "text/html": [
       "<div>\n",
       "<style scoped>\n",
       "    .dataframe tbody tr th:only-of-type {\n",
       "        vertical-align: middle;\n",
       "    }\n",
       "\n",
       "    .dataframe tbody tr th {\n",
       "        vertical-align: top;\n",
       "    }\n",
       "\n",
       "    .dataframe thead th {\n",
       "        text-align: right;\n",
       "    }\n",
       "</style>\n",
       "<table border=\"1\" class=\"dataframe\">\n",
       "  <thead>\n",
       "    <tr style=\"text-align: right;\">\n",
       "      <th></th>\n",
       "      <th>const</th>\n",
       "      <th>trend</th>\n",
       "    </tr>\n",
       "    <tr>\n",
       "      <th>DATE</th>\n",
       "      <th></th>\n",
       "      <th></th>\n",
       "    </tr>\n",
       "  </thead>\n",
       "  <tbody>\n",
       "    <tr>\n",
       "      <th>2021-01-01</th>\n",
       "      <td>1.0</td>\n",
       "      <td>1.0</td>\n",
       "    </tr>\n",
       "    <tr>\n",
       "      <th>2021-01-02</th>\n",
       "      <td>1.0</td>\n",
       "      <td>2.0</td>\n",
       "    </tr>\n",
       "    <tr>\n",
       "      <th>2021-01-03</th>\n",
       "      <td>1.0</td>\n",
       "      <td>3.0</td>\n",
       "    </tr>\n",
       "    <tr>\n",
       "      <th>2021-01-04</th>\n",
       "      <td>1.0</td>\n",
       "      <td>4.0</td>\n",
       "    </tr>\n",
       "    <tr>\n",
       "      <th>2021-01-05</th>\n",
       "      <td>1.0</td>\n",
       "      <td>5.0</td>\n",
       "    </tr>\n",
       "  </tbody>\n",
       "</table>\n",
       "</div>"
      ],
      "text/plain": [
       "            const  trend\n",
       "DATE                    \n",
       "2021-01-01    1.0    1.0\n",
       "2021-01-02    1.0    2.0\n",
       "2021-01-03    1.0    3.0\n",
       "2021-01-04    1.0    4.0\n",
       "2021-01-05    1.0    5.0"
      ]
     },
     "execution_count": 22,
     "metadata": {},
     "output_type": "execute_result"
    }
   ],
   "source": [
    "from statsmodels.tsa.deterministic import DeterministicProcess\n",
    "\n",
    "dp = DeterministicProcess(\n",
    "    index=calls_per_date_df.index,  \n",
    "    constant=True,       \n",
    "    order=1,             # ingresamos la variable  (tendencia)\n",
    "    drop=True,           # se elimina  \n",
    ")\n",
    "# creamos la características para las fechas dadas en el argumento `index\n",
    "X = dp.in_sample()\n",
    "\n",
    "X.head()"
   ]
  },
  {
   "cell_type": "code",
   "execution_count": 23,
   "metadata": {},
   "outputs": [],
   "source": [
    "from sklearn.linear_model import LinearRegression\n",
    "\n",
    "y = calls_per_date_df[\"CALLS\"]\n",
    "\n",
    "\n",
    "model = LinearRegression(fit_intercept=False)\n",
    "model.fit(X, y)\n",
    "\n",
    "y_pred = pd.Series(model.predict(X), index=X.index)"
   ]
  },
  {
   "cell_type": "code",
   "execution_count": 24,
   "metadata": {},
   "outputs": [
    {
     "data": {
      "image/png": "[encoded data removed]",
      "text/plain": [
       "<Figure size 640x480 with 1 Axes>"
      ]
     },
     "metadata": {},
     "output_type": "display_data"
    }
   ],
   "source": [
    "ax = calls_per_date_df.plot(style=\".\", color=\"0.5\", title=\"llamadas diarias - Linear Trend\")\n",
    "_ = y_pred.plot(ax=ax, linewidth=3, label=\"Trend\")"
   ]
  },
  {
   "cell_type": "code",
   "execution_count": 25,
   "metadata": {},
   "outputs": [
    {
     "data": {
      "text/plain": [
       "2021-04-01    50.802747\n",
       "2021-04-02    50.698289\n",
       "2021-04-03    50.593832\n",
       "2021-04-04    50.489375\n",
       "2021-04-05    50.384917\n",
       "Freq: D, dtype: float64"
      ]
     },
     "execution_count": 25,
     "metadata": {},
     "output_type": "execute_result"
    }
   ],
   "source": [
    "X = dp.out_of_sample(steps=30)\n",
    "\n",
    "y_fore = pd.Series(model.predict(X), index=X.index)\n",
    "\n",
    "y_fore.head()"
   ]
  },
  {
   "cell_type": "code",
   "execution_count": 26,
   "metadata": {},
   "outputs": [
    {
     "data": {
      "text/html": [
       "<div>\n",
       "<style scoped>\n",
       "    .dataframe tbody tr th:only-of-type {\n",
       "        vertical-align: middle;\n",
       "    }\n",
       "\n",
       "    .dataframe tbody tr th {\n",
       "        vertical-align: top;\n",
       "    }\n",
       "\n",
       "    .dataframe thead th {\n",
       "        text-align: right;\n",
       "    }\n",
       "</style>\n",
       "<table border=\"1\" class=\"dataframe\">\n",
       "  <thead>\n",
       "    <tr style=\"text-align: right;\">\n",
       "      <th></th>\n",
       "      <th>CALLS</th>\n",
       "    </tr>\n",
       "    <tr>\n",
       "      <th>DATE</th>\n",
       "      <th></th>\n",
       "    </tr>\n",
       "  </thead>\n",
       "  <tbody>\n",
       "    <tr>\n",
       "      <th>2021-01-01</th>\n",
       "      <td>58</td>\n",
       "    </tr>\n",
       "    <tr>\n",
       "      <th>2021-01-02</th>\n",
       "      <td>60</td>\n",
       "    </tr>\n",
       "    <tr>\n",
       "      <th>2021-01-03</th>\n",
       "      <td>58</td>\n",
       "    </tr>\n",
       "    <tr>\n",
       "      <th>2021-01-04</th>\n",
       "      <td>54</td>\n",
       "    </tr>\n",
       "    <tr>\n",
       "      <th>2021-01-05</th>\n",
       "      <td>56</td>\n",
       "    </tr>\n",
       "    <tr>\n",
       "      <th>...</th>\n",
       "      <td>...</td>\n",
       "    </tr>\n",
       "    <tr>\n",
       "      <th>2021-03-27</th>\n",
       "      <td>58</td>\n",
       "    </tr>\n",
       "    <tr>\n",
       "      <th>2021-03-28</th>\n",
       "      <td>38</td>\n",
       "    </tr>\n",
       "    <tr>\n",
       "      <th>2021-03-29</th>\n",
       "      <td>60</td>\n",
       "    </tr>\n",
       "    <tr>\n",
       "      <th>2021-03-30</th>\n",
       "      <td>25</td>\n",
       "    </tr>\n",
       "    <tr>\n",
       "      <th>2021-03-31</th>\n",
       "      <td>27</td>\n",
       "    </tr>\n",
       "  </tbody>\n",
       "</table>\n",
       "<p>90 rows × 1 columns</p>\n",
       "</div>"
      ],
      "text/plain": [
       "            CALLS\n",
       "DATE             \n",
       "2021-01-01     58\n",
       "2021-01-02     60\n",
       "2021-01-03     58\n",
       "2021-01-04     54\n",
       "2021-01-05     56\n",
       "...           ...\n",
       "2021-03-27     58\n",
       "2021-03-28     38\n",
       "2021-03-29     60\n",
       "2021-03-30     25\n",
       "2021-03-31     27\n",
       "\n",
       "[90 rows x 1 columns]"
      ]
     },
     "execution_count": 26,
     "metadata": {},
     "output_type": "execute_result"
    }
   ],
   "source": [
    "calls_per_date_df"
   ]
  },
  {
   "cell_type": "markdown",
   "metadata": {},
   "source": [
    "### Aplicamos una parte de la serie para ver la tendencia prevista para los próximos 30 días:"
   ]
  },
  {
   "cell_type": "code",
   "execution_count": 27,
   "metadata": {},
   "outputs": [
    {
     "data": {
      "image/png": "[encoded data removed]",
      "text/plain": [
       "<Figure size 640x480 with 1 Axes>"
      ]
     },
     "metadata": {},
     "output_type": "display_data"
    }
   ],
   "source": [
    "calls_april = calls_per_date_df[\"2021-03\":]\n",
    "y_pred_april = y_pred[\"2021-03\":]\n",
    "y_fore_april = y_fore[\"2021-03\":]\n",
    "\n",
    "\n",
    "plot_params = {\n",
    "    \"kind\": \"line\",\n",
    "    \"title\": \"Llamadas diarias - Pronóstico de tendencia lineal\"\n",
    "}\n",
    "\n",
    "\n",
    "ax = calls_april.plot(**plot_params)\n",
    "ax = y_pred_april.plot(ax=ax, linewidth=3, label=\"Tendencia\")\n",
    "ax = y_fore_april.plot(ax=ax, linewidth=3, label=\"Pronóstico de tendencia\", color=\"C3\")\n",
    "\n",
    "\n",
    "ax.legend()\n",
    "\n",
    "\n",
    "plt.show()"
   ]
  },
  {
   "cell_type": "code",
   "execution_count": 28,
   "metadata": {},
   "outputs": [],
   "source": [
    "from sklearn.metrics import mean_absolute_error\n",
    "from sklearn.metrics import mean_squared_error"
   ]
  },
  {
   "cell_type": "code",
   "execution_count": 29,
   "metadata": {},
   "outputs": [
    {
     "name": "stdout",
     "output_type": "stream",
     "text": [
      "Mean Squared Error (MSE): 94.14933774783964\n"
     ]
    }
   ],
   "source": [
    "mse = mean_squared_error(calls_per_date_df['CALLS'], y_pred)\n",
    "print(\"Mean Squared Error (MSE):\", mse)"
   ]
  },
  {
   "cell_type": "code",
   "execution_count": 30,
   "metadata": {},
   "outputs": [
    {
     "name": "stdout",
     "output_type": "stream",
     "text": [
      "Mean Absolute Error (MAE): 7.311974500738553\n"
     ]
    }
   ],
   "source": [
    "from sklearn.metrics import mean_absolute_error\n",
    "\n",
    "\n",
    "mae = mean_absolute_error(calls_per_date_df['CALLS'], y_pred)\n",
    "print(\"Mean Absolute Error (MAE):\", mae)"
   ]
  },
  {
   "cell_type": "code",
   "execution_count": 31,
   "metadata": {},
   "outputs": [
    {
     "name": "stdout",
     "output_type": "stream",
     "text": [
      "R cuadrado (R^2): 0.07254440717352051\n"
     ]
    }
   ],
   "source": [
    "from sklearn.metrics import r2_score\n",
    "\n",
    "# y_true son los valores reales y y_pred son las predicciones del modelo\n",
    "r2 = r2_score(calls_per_date_df['CALLS'], y_pred)\n",
    "\n",
    "print(\"R cuadrado (R^2):\", r2)"
   ]
  },
  {
   "cell_type": "code",
   "execution_count": 32,
   "metadata": {},
   "outputs": [
    {
     "data": {
      "text/plain": [
       "array([60.30836454, -0.10445734])"
      ]
     },
     "execution_count": 32,
     "metadata": {},
     "output_type": "execute_result"
    }
   ],
   "source": [
    "model.coef_\n"
   ]
  },
  {
   "cell_type": "code",
   "execution_count": 33,
   "metadata": {},
   "outputs": [
    {
     "data": {
      "text/plain": [
       "0.0"
      ]
     },
     "execution_count": 33,
     "metadata": {},
     "output_type": "execute_result"
    }
   ],
   "source": [
    "model.intercept_"
   ]
  },
  {
   "cell_type": "code",
   "execution_count": 34,
   "metadata": {},
   "outputs": [
    {
     "data": {
      "text/html": [
       "<div>\n",
       "<style scoped>\n",
       "    .dataframe tbody tr th:only-of-type {\n",
       "        vertical-align: middle;\n",
       "    }\n",
       "\n",
       "    .dataframe tbody tr th {\n",
       "        vertical-align: top;\n",
       "    }\n",
       "\n",
       "    .dataframe thead th {\n",
       "        text-align: right;\n",
       "    }\n",
       "</style>\n",
       "<table border=\"1\" class=\"dataframe\">\n",
       "  <thead>\n",
       "    <tr style=\"text-align: right;\">\n",
       "      <th></th>\n",
       "      <th>CALLS</th>\n",
       "    </tr>\n",
       "    <tr>\n",
       "      <th>DATE</th>\n",
       "      <th></th>\n",
       "    </tr>\n",
       "  </thead>\n",
       "  <tbody>\n",
       "    <tr>\n",
       "      <th>2021-01-01</th>\n",
       "      <td>58</td>\n",
       "    </tr>\n",
       "    <tr>\n",
       "      <th>2021-01-02</th>\n",
       "      <td>60</td>\n",
       "    </tr>\n",
       "    <tr>\n",
       "      <th>2021-01-03</th>\n",
       "      <td>58</td>\n",
       "    </tr>\n",
       "    <tr>\n",
       "      <th>2021-01-04</th>\n",
       "      <td>54</td>\n",
       "    </tr>\n",
       "    <tr>\n",
       "      <th>2021-01-05</th>\n",
       "      <td>56</td>\n",
       "    </tr>\n",
       "    <tr>\n",
       "      <th>...</th>\n",
       "      <td>...</td>\n",
       "    </tr>\n",
       "    <tr>\n",
       "      <th>2021-03-27</th>\n",
       "      <td>58</td>\n",
       "    </tr>\n",
       "    <tr>\n",
       "      <th>2021-03-28</th>\n",
       "      <td>38</td>\n",
       "    </tr>\n",
       "    <tr>\n",
       "      <th>2021-03-29</th>\n",
       "      <td>60</td>\n",
       "    </tr>\n",
       "    <tr>\n",
       "      <th>2021-03-30</th>\n",
       "      <td>25</td>\n",
       "    </tr>\n",
       "    <tr>\n",
       "      <th>2021-03-31</th>\n",
       "      <td>27</td>\n",
       "    </tr>\n",
       "  </tbody>\n",
       "</table>\n",
       "<p>90 rows × 1 columns</p>\n",
       "</div>"
      ],
      "text/plain": [
       "            CALLS\n",
       "DATE             \n",
       "2021-01-01     58\n",
       "2021-01-02     60\n",
       "2021-01-03     58\n",
       "2021-01-04     54\n",
       "2021-01-05     56\n",
       "...           ...\n",
       "2021-03-27     58\n",
       "2021-03-28     38\n",
       "2021-03-29     60\n",
       "2021-03-30     25\n",
       "2021-03-31     27\n",
       "\n",
       "[90 rows x 1 columns]"
      ]
     },
     "execution_count": 34,
     "metadata": {},
     "output_type": "execute_result"
    }
   ],
   "source": [
    "calls_per_date_df"
   ]
  },
  {
   "cell_type": "markdown",
   "metadata": {},
   "source": [
    "### guardamos el modelo en un pickle"
   ]
  },
  {
   "cell_type": "code",
   "execution_count": 35,
   "metadata": {},
   "outputs": [],
   "source": [
    "import pickle\n",
    "\n",
    "with open('modelo_regresion_lineal.pkl', 'wb') as f:\n",
    "    pickle.dump(model, f)"
   ]
  },
  {
   "cell_type": "markdown",
   "metadata": {},
   "source": [
    "_________________________________________________________"
   ]
  },
  {
   "cell_type": "markdown",
   "metadata": {},
   "source": [
    "## Intento Mejora de Modelo N°3"
   ]
  },
  {
   "cell_type": "markdown",
   "metadata": {},
   "source": [
    "## Estandarización y Escalamiento de Datos"
   ]
  },
  {
   "cell_type": "code",
   "execution_count": 36,
   "metadata": {},
   "outputs": [],
   "source": [
    "from sklearn.preprocessing import StandardScaler, MinMaxScaler\n",
    "\n",
    "# Estandarización\n",
    "scaler = StandardScaler()\n",
    "calls_per_date_df_scaled = scaler.fit_transform(calls_per_date_df[['CALLS']])\n",
    "calls_per_date_df['CALLS_SCALED'] = calls_per_date_df_scaled\n",
    "\n",
    "# Escalamiento\n",
    "min_max_scaler = MinMaxScaler()\n",
    "calls_per_date_df_min_max_scaled = min_max_scaler.fit_transform(calls_per_date_df[['CALLS']])\n",
    "calls_per_date_df['CALLS_MIN_MAX_SCALED'] = calls_per_date_df_min_max_scaled"
   ]
  },
  {
   "cell_type": "markdown",
   "metadata": {},
   "source": [
    "##  Agregar Retardos y Ventanas de Tiempo como Características\n",
    "Este código añade características lag y una media móvil como ejemplos de ingeniería de características\n"
   ]
  },
  {
   "cell_type": "code",
   "execution_count": 37,
   "metadata": {},
   "outputs": [],
   "source": [
    "# Añadimos retardos \n",
    "for lag in range(1, 4):  # Añadimo 3 retardos \n",
    "    calls_per_date_df[f'CALLS_LAG_{lag}'] = calls_per_date_df['CALLS'].shift(lag)\n",
    "\n",
    "# Añadir una media móvil de 7 días como característica\n",
    "calls_per_date_df['CALLS_MA_7'] = calls_per_date_df['CALLS'].rolling(window=7).mean()\n",
    "\n",
    "\n",
    "calls_per_date_df.dropna(inplace=True)"
   ]
  },
  {
   "cell_type": "code",
   "execution_count": 38,
   "metadata": {},
   "outputs": [
    {
     "name": "stdout",
     "output_type": "stream",
     "text": [
      "MSE: 77.92204117647056\n",
      "MSA 7.458235294117647\n",
      "R^2: -0.021383794448475824\n"
     ]
    }
   ],
   "source": [
    "from sklearn.ensemble import RandomForestRegressor\n",
    "from sklearn.model_selection import train_test_split\n",
    "\n",
    "\n",
    "X = calls_per_date_df.drop(['CALLS', 'CALLS_SCALED', 'CALLS_MIN_MAX_SCALED'], axis=1)\n",
    "y = calls_per_date_df['CALLS']\n",
    "\n",
    "\n",
    "X_train, X_test, y_train, y_test = train_test_split(X, y, test_size=0.2, random_state=42)\n",
    "\n",
    "\n",
    "model = RandomForestRegressor(n_estimators=100, random_state=42)\n",
    "model.fit(X_train, y_train)\n",
    "\n",
    "\n",
    "predictions = model.predict(X_test)\n",
    "\n",
    "from sklearn.metrics import mean_squared_error, r2_score\n",
    "\n",
    "print(\"MSE:\", mean_squared_error(y_test, predictions))\n",
    "print(\"MSA\",mean_absolute_error(y_test, predictions))\n",
    "print(\"R^2:\", r2_score(y_test, predictions))"
   ]
  },
  {
   "cell_type": "markdown",
   "metadata": {},
   "source": [
    "## Optimización de Hiperparámetros"
   ]
  },
  {
   "cell_type": "code",
   "execution_count": 39,
   "metadata": {},
   "outputs": [
    {
     "name": "stdout",
     "output_type": "stream",
     "text": [
      "Mejores parámetros: {'max_depth': 10, 'n_estimators': 200}\n"
     ]
    }
   ],
   "source": [
    "from sklearn.model_selection import GridSearchCV\n",
    "\n",
    "# Definimos el espacio HP\n",
    "\n",
    "param_grid = {\n",
    "    'n_estimators': [50, 100, 200],\n",
    "    'max_depth': [None, 10, 20, 30],\n",
    "}\n",
    "\n",
    "# Inicializarmos el modelo y el GridSearchCV\n",
    "rf = RandomForestRegressor(random_state=42)\n",
    "grid_search = GridSearchCV(estimator=rf, param_grid=param_grid, cv=3, scoring='neg_mean_squared_error', n_jobs=-1)\n",
    "\n",
    "# Ejecutar búsqueda\n",
    "grid_search.fit(X_train, y_train)\n",
    "\n",
    "# Mejores parámetros\n",
    "print(\"Mejores parámetros:\", grid_search.best_params_)"
   ]
  },
  {
   "cell_type": "code",
   "execution_count": 40,
   "metadata": {},
   "outputs": [
    {
     "name": "stdout",
     "output_type": "stream",
     "text": [
      "Mean Squared Error (MSE): 76.60655687882851\n",
      "Mean Absolute Error (MAE): 7.335539829451593\n",
      "R cuadrado (R^2): -0.004140735576081411\n"
     ]
    }
   ],
   "source": [
    "\n",
    "# Entrenamos el modelo con los mejores hiperparámetros\n",
    "best_rf = grid_search.best_estimator_\n",
    "\n",
    "\n",
    "\n",
    "# Predecicion   \n",
    "y_pred = best_rf.predict(X_test)\n",
    "\n",
    "mse = mean_squared_error(y_test, y_pred)\n",
    "mae = mean_absolute_error(y_test, y_pred)\n",
    "r2 = r2_score(y_test, y_pred)\n",
    "\n",
    "print(f\"Mean Squared Error (MSE): {mse}\")\n",
    "print(f\"Mean Absolute Error (MAE): {mae}\")\n",
    "print(f\"R cuadrado (R^2): {r2}\")"
   ]
  },
  {
   "cell_type": "code",
   "execution_count": 41,
   "metadata": {},
   "outputs": [],
   "source": [
    "from sklearn.preprocessing import MinMaxScaler\n",
    "\n",
    "scaler = MinMaxScaler()\n",
    "df_scaled = scaler.fit_transform(calls_per_date_df[['CALLS']])"
   ]
  },
  {
   "cell_type": "markdown",
   "metadata": {},
   "source": [
    "## Creación de Secuencias\n",
    "Las redes neuronales para series temporales, como LSTM, necesitan un conjunto de datos que consista en secuencias de entradas. Aquí está un ejemplo de cómo podrías crear estas secuencias:"
   ]
  },
  {
   "cell_type": "code",
   "execution_count": 42,
   "metadata": {},
   "outputs": [],
   "source": [
    "import numpy as np\n",
    "\n",
    "def create_sequences(data, sequence_length):\n",
    "    xs = []\n",
    "    ys = []\n",
    "    for i in range(len(data)-sequence_length):\n",
    "        x = data[i:(i+sequence_length)]\n",
    "        y = data[i+sequence_length]\n",
    "        xs.append(x)\n",
    "        ys.append(y)\n",
    "    return np.array(xs), np.array(ys)\n",
    "\n",
    "sequence_length = 30  \n",
    "X, y = create_sequences(df_scaled, sequence_length)"
   ]
  },
  {
   "cell_type": "code",
   "execution_count": 43,
   "metadata": {},
   "outputs": [],
   "source": [
    "split = int(len(X) * 0.8)\n",
    "X_train, X_test = X[:split], X[split:]\n",
    "y_train, y_test = y[:split], y[split:]"
   ]
  },
  {
   "cell_type": "code",
   "execution_count": 44,
   "metadata": {},
   "outputs": [
    {
     "name": "stdout",
     "output_type": "stream",
     "text": [
      "Requirement already satisfied: pip in c:\\users\\lucia\\appdata\\local\\programs\\python\\python312\\lib\\site-packages (24.0)\n"
     ]
    }
   ],
   "source": [
    "!python -m pip install --upgrade pip"
   ]
  },
  {
   "cell_type": "code",
   "execution_count": 45,
   "metadata": {},
   "outputs": [
    {
     "name": "stdout",
     "output_type": "stream",
     "text": [
      "Requirement already satisfied: tensorflow in c:\\users\\lucia\\appdata\\local\\programs\\python\\python312\\lib\\site-packages (2.16.1)\n",
      "Requirement already satisfied: tensorflow-intel==2.16.1 in c:\\users\\lucia\\appdata\\local\\programs\\python\\python312\\lib\\site-packages (from tensorflow) (2.16.1)\n",
      "Requirement already satisfied: absl-py>=1.0.0 in c:\\users\\lucia\\appdata\\local\\programs\\python\\python312\\lib\\site-packages (from tensorflow-intel==2.16.1->tensorflow) (2.1.0)\n",
      "Requirement already satisfied: astunparse>=1.6.0 in c:\\users\\lucia\\appdata\\local\\programs\\python\\python312\\lib\\site-packages (from tensorflow-intel==2.16.1->tensorflow) (1.6.3)\n",
      "Requirement already satisfied: flatbuffers>=23.5.26 in c:\\users\\lucia\\appdata\\local\\programs\\python\\python312\\lib\\site-packages (from tensorflow-intel==2.16.1->tensorflow) (24.3.7)\n",
      "Requirement already satisfied: gast!=0.5.0,!=0.5.1,!=0.5.2,>=0.2.1 in c:\\users\\lucia\\appdata\\local\\programs\\python\\python312\\lib\\site-packages (from tensorflow-intel==2.16.1->tensorflow) (0.5.4)\n",
      "Requirement already satisfied: google-pasta>=0.1.1 in c:\\users\\lucia\\appdata\\local\\programs\\python\\python312\\lib\\site-packages (from tensorflow-intel==2.16.1->tensorflow) (0.2.0)\n",
      "Requirement already satisfied: h5py>=3.10.0 in c:\\users\\lucia\\appdata\\local\\programs\\python\\python312\\lib\\site-packages (from tensorflow-intel==2.16.1->tensorflow) (3.10.0)\n",
      "Requirement already satisfied: libclang>=13.0.0 in c:\\users\\lucia\\appdata\\local\\programs\\python\\python312\\lib\\site-packages (from tensorflow-intel==2.16.1->tensorflow) (16.0.6)\n",
      "Requirement already satisfied: ml-dtypes~=0.3.1 in c:\\users\\lucia\\appdata\\local\\programs\\python\\python312\\lib\\site-packages (from tensorflow-intel==2.16.1->tensorflow) (0.3.2)\n",
      "Requirement already satisfied: opt-einsum>=2.3.2 in c:\\users\\lucia\\appdata\\local\\programs\\python\\python312\\lib\\site-packages (from tensorflow-intel==2.16.1->tensorflow) (3.3.0)\n",
      "Requirement already satisfied: packaging in c:\\users\\lucia\\appdata\\local\\programs\\python\\python312\\lib\\site-packages (from tensorflow-intel==2.16.1->tensorflow) (24.0)\n",
      "Requirement already satisfied: protobuf!=4.21.0,!=4.21.1,!=4.21.2,!=4.21.3,!=4.21.4,!=4.21.5,<5.0.0dev,>=3.20.3 in c:\\users\\lucia\\appdata\\local\\programs\\python\\python312\\lib\\site-packages (from tensorflow-intel==2.16.1->tensorflow) (4.25.3)\n",
      "Requirement already satisfied: requests<3,>=2.21.0 in c:\\users\\lucia\\appdata\\local\\programs\\python\\python312\\lib\\site-packages (from tensorflow-intel==2.16.1->tensorflow) (2.31.0)\n",
      "Requirement already satisfied: setuptools in c:\\users\\lucia\\appdata\\local\\programs\\python\\python312\\lib\\site-packages (from tensorflow-intel==2.16.1->tensorflow) (68.2.2)\n",
      "Requirement already satisfied: six>=1.12.0 in c:\\users\\lucia\\appdata\\local\\programs\\python\\python312\\lib\\site-packages (from tensorflow-intel==2.16.1->tensorflow) (1.16.0)\n",
      "Requirement already satisfied: termcolor>=1.1.0 in c:\\users\\lucia\\appdata\\local\\programs\\python\\python312\\lib\\site-packages (from tensorflow-intel==2.16.1->tensorflow) (2.4.0)\n",
      "Requirement already satisfied: typing-extensions>=3.6.6 in c:\\users\\lucia\\appdata\\local\\programs\\python\\python312\\lib\\site-packages (from tensorflow-intel==2.16.1->tensorflow) (4.8.0)\n",
      "Requirement already satisfied: wrapt>=1.11.0 in c:\\users\\lucia\\appdata\\local\\programs\\python\\python312\\lib\\site-packages (from tensorflow-intel==2.16.1->tensorflow) (1.16.0)\n",
      "Requirement already satisfied: grpcio<2.0,>=1.24.3 in c:\\users\\lucia\\appdata\\local\\programs\\python\\python312\\lib\\site-packages (from tensorflow-intel==2.16.1->tensorflow) (1.62.1)\n",
      "Requirement already satisfied: tensorboard<2.17,>=2.16 in c:\\users\\lucia\\appdata\\local\\programs\\python\\python312\\lib\\site-packages (from tensorflow-intel==2.16.1->tensorflow) (2.16.2)\n",
      "Requirement already satisfied: keras>=3.0.0 in c:\\users\\lucia\\appdata\\local\\programs\\python\\python312\\lib\\site-packages (from tensorflow-intel==2.16.1->tensorflow) (3.0.5)\n",
      "Requirement already satisfied: numpy<2.0.0,>=1.26.0 in c:\\users\\lucia\\appdata\\local\\programs\\python\\python312\\lib\\site-packages (from tensorflow-intel==2.16.1->tensorflow) (1.26.4)\n",
      "Requirement already satisfied: wheel<1.0,>=0.23.0 in c:\\users\\lucia\\appdata\\local\\programs\\python\\python312\\lib\\site-packages (from astunparse>=1.6.0->tensorflow-intel==2.16.1->tensorflow) (0.41.3)\n",
      "Requirement already satisfied: rich in c:\\users\\lucia\\appdata\\local\\programs\\python\\python312\\lib\\site-packages (from keras>=3.0.0->tensorflow-intel==2.16.1->tensorflow) (13.6.0)\n",
      "Requirement already satisfied: namex in c:\\users\\lucia\\appdata\\local\\programs\\python\\python312\\lib\\site-packages (from keras>=3.0.0->tensorflow-intel==2.16.1->tensorflow) (0.0.7)\n",
      "Requirement already satisfied: dm-tree in c:\\users\\lucia\\appdata\\local\\programs\\python\\python312\\lib\\site-packages (from keras>=3.0.0->tensorflow-intel==2.16.1->tensorflow) (0.1.8)\n",
      "Requirement already satisfied: charset-normalizer<4,>=2 in c:\\users\\lucia\\appdata\\local\\programs\\python\\python312\\lib\\site-packages (from requests<3,>=2.21.0->tensorflow-intel==2.16.1->tensorflow) (3.3.1)\n",
      "Requirement already satisfied: idna<4,>=2.5 in c:\\users\\lucia\\appdata\\local\\programs\\python\\python312\\lib\\site-packages (from requests<3,>=2.21.0->tensorflow-intel==2.16.1->tensorflow) (3.4)\n",
      "Requirement already satisfied: urllib3<3,>=1.21.1 in c:\\users\\lucia\\appdata\\local\\programs\\python\\python312\\lib\\site-packages (from requests<3,>=2.21.0->tensorflow-intel==2.16.1->tensorflow) (2.0.7)\n",
      "Requirement already satisfied: certifi>=2017.4.17 in c:\\users\\lucia\\appdata\\local\\programs\\python\\python312\\lib\\site-packages (from requests<3,>=2.21.0->tensorflow-intel==2.16.1->tensorflow) (2023.7.22)\n",
      "Requirement already satisfied: markdown>=2.6.8 in c:\\users\\lucia\\appdata\\local\\programs\\python\\python312\\lib\\site-packages (from tensorboard<2.17,>=2.16->tensorflow-intel==2.16.1->tensorflow) (3.5.2)\n",
      "Requirement already satisfied: tensorboard-data-server<0.8.0,>=0.7.0 in c:\\users\\lucia\\appdata\\local\\programs\\python\\python312\\lib\\site-packages (from tensorboard<2.17,>=2.16->tensorflow-intel==2.16.1->tensorflow) (0.7.2)\n",
      "Requirement already satisfied: werkzeug>=1.0.1 in c:\\users\\lucia\\appdata\\local\\programs\\python\\python312\\lib\\site-packages (from tensorboard<2.17,>=2.16->tensorflow-intel==2.16.1->tensorflow) (3.0.1)\n",
      "Requirement already satisfied: MarkupSafe>=2.1.1 in c:\\users\\lucia\\appdata\\local\\programs\\python\\python312\\lib\\site-packages (from werkzeug>=1.0.1->tensorboard<2.17,>=2.16->tensorflow-intel==2.16.1->tensorflow) (2.1.3)\n",
      "Requirement already satisfied: markdown-it-py>=2.2.0 in c:\\users\\lucia\\appdata\\local\\programs\\python\\python312\\lib\\site-packages (from rich->keras>=3.0.0->tensorflow-intel==2.16.1->tensorflow) (3.0.0)\n",
      "Requirement already satisfied: pygments<3.0.0,>=2.13.0 in c:\\users\\lucia\\appdata\\roaming\\python\\python312\\site-packages (from rich->keras>=3.0.0->tensorflow-intel==2.16.1->tensorflow) (2.16.1)\n",
      "Requirement already satisfied: mdurl~=0.1 in c:\\users\\lucia\\appdata\\local\\programs\\python\\python312\\lib\\site-packages (from markdown-it-py>=2.2.0->rich->keras>=3.0.0->tensorflow-intel==2.16.1->tensorflow) (0.1.2)\n",
      "Note: you may need to restart the kernel to use updated packages.\n"
     ]
    }
   ],
   "source": [
    "pip install tensorflow"
   ]
  },
  {
   "cell_type": "markdown",
   "metadata": {},
   "source": [
    "## Construcción del Modelo\n",
    "Con TensorFlow y Keras, puedes construir una red neuronal para tu problema de series temporales con una LSTM:"
   ]
  },
  {
   "cell_type": "code",
   "execution_count": 46,
   "metadata": {},
   "outputs": [],
   "source": [
    "from tensorflow.keras.models import Sequential\n",
    "from tensorflow.keras.layers import Dense, LSTM\n",
    "\n",
    "model = Sequential([\n",
    "    LSTM(50, activation='relu', input_shape=(sequence_length, 1)),\n",
    "    Dense(1)\n",
    "])\n",
    "model.compile(optimizer='adam', loss='mse')"
   ]
  },
  {
   "cell_type": "markdown",
   "metadata": {},
   "source": [
    "## Entrenamiento del Modelo"
   ]
  },
  {
   "cell_type": "code",
   "execution_count": 47,
   "metadata": {},
   "outputs": [
    {
     "name": "stdout",
     "output_type": "stream",
     "text": [
      "Epoch 1/20\n"
     ]
    },
    {
     "name": "stdout",
     "output_type": "stream",
     "text": [
      "\u001b[1m2/2\u001b[0m \u001b[32m━━━━━━━━━━━━━━━━━━━━\u001b[0m\u001b[37m\u001b[0m \u001b[1m2s\u001b[0m 295ms/step - loss: 0.3065 - val_loss: 0.2006\n",
      "Epoch 2/20\n",
      "\u001b[1m2/2\u001b[0m \u001b[32m━━━━━━━━━━━━━━━━━━━━\u001b[0m\u001b[37m\u001b[0m \u001b[1m0s\u001b[0m 77ms/step - loss: 0.2700 - val_loss: 0.1880\n",
      "Epoch 3/20\n",
      "\u001b[1m2/2\u001b[0m \u001b[32m━━━━━━━━━━━━━━━━━━━━\u001b[0m\u001b[37m\u001b[0m \u001b[1m0s\u001b[0m 55ms/step - loss: 0.2689 - val_loss: 0.1764\n",
      "Epoch 4/20\n",
      "\u001b[1m2/2\u001b[0m \u001b[32m━━━━━━━━━━━━━━━━━━━━\u001b[0m\u001b[37m\u001b[0m \u001b[1m0s\u001b[0m 39ms/step - loss: 0.2436 - val_loss: 0.1653\n",
      "Epoch 5/20\n",
      "\u001b[1m2/2\u001b[0m \u001b[32m━━━━━━━━━━━━━━━━━━━━\u001b[0m\u001b[37m\u001b[0m \u001b[1m0s\u001b[0m 44ms/step - loss: 0.2445 - val_loss: 0.1551\n",
      "Epoch 6/20\n",
      "\u001b[1m2/2\u001b[0m \u001b[32m━━━━━━━━━━━━━━━━━━━━\u001b[0m\u001b[37m\u001b[0m \u001b[1m0s\u001b[0m 41ms/step - loss: 0.2110 - val_loss: 0.1454\n",
      "Epoch 7/20\n",
      "\u001b[1m2/2\u001b[0m \u001b[32m━━━━━━━━━━━━━━━━━━━━\u001b[0m\u001b[37m\u001b[0m \u001b[1m0s\u001b[0m 41ms/step - loss: 0.2130 - val_loss: 0.1355\n",
      "Epoch 8/20\n",
      "\u001b[1m2/2\u001b[0m \u001b[32m━━━━━━━━━━━━━━━━━━━━\u001b[0m\u001b[37m\u001b[0m \u001b[1m0s\u001b[0m 50ms/step - loss: 0.1879 - val_loss: 0.1253\n",
      "Epoch 9/20\n",
      "\u001b[1m2/2\u001b[0m \u001b[32m━━━━━━━━━━━━━━━━━━━━\u001b[0m\u001b[37m\u001b[0m \u001b[1m0s\u001b[0m 53ms/step - loss: 0.1776 - val_loss: 0.1140\n",
      "Epoch 10/20\n",
      "\u001b[1m2/2\u001b[0m \u001b[32m━━━━━━━━━━━━━━━━━━━━\u001b[0m\u001b[37m\u001b[0m \u001b[1m0s\u001b[0m 54ms/step - loss: 0.1606 - val_loss: 0.1019\n",
      "Epoch 11/20\n",
      "\u001b[1m2/2\u001b[0m \u001b[32m━━━━━━━━━━━━━━━━━━━━\u001b[0m\u001b[37m\u001b[0m \u001b[1m0s\u001b[0m 49ms/step - loss: 0.1466 - val_loss: 0.0888\n",
      "Epoch 12/20\n",
      "\u001b[1m2/2\u001b[0m \u001b[32m━━━━━━━━━━━━━━━━━━━━\u001b[0m\u001b[37m\u001b[0m \u001b[1m0s\u001b[0m 56ms/step - loss: 0.1437 - val_loss: 0.0748\n",
      "Epoch 13/20\n",
      "\u001b[1m2/2\u001b[0m \u001b[32m━━━━━━━━━━━━━━━━━━━━\u001b[0m\u001b[37m\u001b[0m \u001b[1m0s\u001b[0m 59ms/step - loss: 0.1218 - val_loss: 0.0598\n",
      "Epoch 14/20\n",
      "\u001b[1m2/2\u001b[0m \u001b[32m━━━━━━━━━━━━━━━━━━━━\u001b[0m\u001b[37m\u001b[0m \u001b[1m0s\u001b[0m 49ms/step - loss: 0.0885 - val_loss: 0.0443\n",
      "Epoch 15/20\n",
      "\u001b[1m2/2\u001b[0m \u001b[32m━━━━━━━━━━━━━━━━━━━━\u001b[0m\u001b[37m\u001b[0m \u001b[1m0s\u001b[0m 50ms/step - loss: 0.0746 - val_loss: 0.0285\n",
      "Epoch 16/20\n",
      "\u001b[1m2/2\u001b[0m \u001b[32m━━━━━━━━━━━━━━━━━━━━\u001b[0m\u001b[37m\u001b[0m \u001b[1m0s\u001b[0m 52ms/step - loss: 0.0489 - val_loss: 0.0153\n",
      "Epoch 17/20\n",
      "\u001b[1m2/2\u001b[0m \u001b[32m━━━━━━━━━━━━━━━━━━━━\u001b[0m\u001b[37m\u001b[0m \u001b[1m0s\u001b[0m 47ms/step - loss: 0.0265 - val_loss: 0.0124\n",
      "Epoch 18/20\n",
      "\u001b[1m2/2\u001b[0m \u001b[32m━━━━━━━━━━━━━━━━━━━━\u001b[0m\u001b[37m\u001b[0m \u001b[1m0s\u001b[0m 55ms/step - loss: 0.0197 - val_loss: 0.0326\n",
      "Epoch 19/20\n",
      "\u001b[1m2/2\u001b[0m \u001b[32m━━━━━━━━━━━━━━━━━━━━\u001b[0m\u001b[37m\u001b[0m \u001b[1m0s\u001b[0m 60ms/step - loss: 0.0377 - val_loss: 0.0398\n",
      "Epoch 20/20\n",
      "\u001b[1m2/2\u001b[0m \u001b[32m━━━━━━━━━━━━━━━━━━━━\u001b[0m\u001b[37m\u001b[0m \u001b[1m0s\u001b[0m 53ms/step - loss: 0.0329 - val_loss: 0.0253\n"
     ]
    }
   ],
   "source": [
    "history = model.fit(X_train, y_train, epochs=20, validation_split=0.1)"
   ]
  },
  {
   "cell_type": "code",
   "execution_count": 48,
   "metadata": {},
   "outputs": [
    {
     "name": "stdout",
     "output_type": "stream",
     "text": [
      "\u001b[1m1/1\u001b[0m \u001b[32m━━━━━━━━━━━━━━━━━━━━\u001b[0m\u001b[37m\u001b[0m \u001b[1m0s\u001b[0m 341ms/step\n"
     ]
    }
   ],
   "source": [
    "predictions = model.predict(X_test)\n",
    "predictions_rescaled = scaler.inverse_transform(predictions)"
   ]
  },
  {
   "cell_type": "markdown",
   "metadata": {},
   "source": [
    "## Evaluación del Modelo"
   ]
  },
  {
   "cell_type": "code",
   "execution_count": 49,
   "metadata": {},
   "outputs": [
    {
     "name": "stdout",
     "output_type": "stream",
     "text": [
      "\u001b[1m1/1\u001b[0m \u001b[32m━━━━━━━━━━━━━━━━━━━━\u001b[0m\u001b[37m\u001b[0m \u001b[1m0s\u001b[0m 46ms/step - loss: 0.0624\n",
      "Tipo de resultado de evaluación: <class 'float'>\n",
      "Resultado de evaluación: 0.06240581348538399\n",
      "Pérdida (MSE): 0.06240581348538399\n"
     ]
    }
   ],
   "source": [
    "evaluation_result = model.evaluate(X_test, y_test)\n",
    "\n",
    "print(\"Tipo de resultado de evaluación:\", type(evaluation_result))\n",
    "\n",
    "\n",
    "print(\"Resultado de evaluación:\", evaluation_result)\n",
    "\n",
    "\n",
    "if isinstance(evaluation_result, float):\n",
    "    print(\"Pérdida (MSE):\", evaluation_result)\n",
    "else:\n",
    "    #\n",
    "    mse_index = model.metrics_names.index('mse')  \n",
    "    mae_index = model.metrics_names.index('mae')  \n",
    "    mse = evaluation_result[mse_index]  \n",
    "    mae = evaluation_result[mae_index]  \n",
    "    predictions = model.predict(X_test)\n",
    "    r2 = r2_score(y_test, predictions)\n",
    "    print(\"MSE:\", mse)\n",
    "    print(\"MAE:\", mae)\n",
    "    print(\"R cuadrado (R^2):\", r2)"
   ]
  },
  {
   "cell_type": "code",
   "execution_count": 50,
   "metadata": {},
   "outputs": [
    {
     "name": "stdout",
     "output_type": "stream",
     "text": [
      "MSE: 76.60655687882851\n",
      "MAE: 7.335539829451593\n",
      "R cuadrado (R^2): -0.004140735576081411\n"
     ]
    }
   ],
   "source": [
    "print(\"MSE:\", mse)\n",
    "print(\"MAE:\", mae)\n",
    "print(\"R cuadrado (R^2):\", r2)"
   ]
  },
  {
   "cell_type": "markdown",
   "metadata": {},
   "source": [
    "_______________________________________________________________________________________________________"
   ]
  },
  {
   "cell_type": "markdown",
   "metadata": {},
   "source": [
    "## Intento Mejora de Modelo N°4"
   ]
  },
  {
   "cell_type": "code",
   "execution_count": null,
   "metadata": {},
   "outputs": [],
   "source": [
    "dataset = r\"C:\\Users\\Lucia\\Desktop\\PROYECTO_MLP_PABLO_XAVIER\\PROYECTO_MLP_PABLO_XAVIER_MENDEZ\\src\\data\\process\\telecom.csv\"\n",
    "df = pd.read_csv(dataset, parse_dates=['DATE'])"
   ]
  },
  {
   "cell_type": "code",
   "execution_count": null,
   "metadata": {},
   "outputs": [
    {
     "name": "stdout",
     "output_type": "stream",
     "text": [
      "            CALLS\n",
      "DATE             \n",
      "2021-01-01     58\n",
      "2021-01-02     60\n",
      "2021-01-03     58\n",
      "2021-01-04     54\n",
      "2021-01-05     56\n",
      "...           ...\n",
      "2021-03-27     58\n",
      "2021-03-28     38\n",
      "2021-03-29     60\n",
      "2021-03-30     25\n",
      "2021-03-31     27\n",
      "\n",
      "[90 rows x 1 columns]\n"
     ]
    }
   ],
   "source": [
    "import pandas as pd\n",
    "\n",
    "calls_per_date_df = pd.DataFrame(calls_per_date, columns=[\"CALLS\"])\n",
    "\n",
    "calls_per_date_df.index = pd.to_datetime(calls_per_date_df.index).to_period('D')\n",
    "\n",
    "print(calls_per_date_df)"
   ]
  },
  {
   "cell_type": "code",
   "execution_count": null,
   "metadata": {},
   "outputs": [
    {
     "data": {
      "text/plain": [
       "<Axes: title={'center': 'llamadas diarias - 90 -Day Moving Average'}, xlabel='DATE'>"
      ]
     },
     "execution_count": 36,
     "metadata": {},
     "output_type": "execute_result"
    },
    {
     "data": {
      "image/png": "[encoded data removed]",
      "text/plain": [
       "<Figure size 640x480 with 1 Axes>"
      ]
     },
     "metadata": {},
     "output_type": "display_data"
    }
   ],
   "source": [
    "moving_average = calls_per_date_df.rolling(\n",
    "    window=90,       \n",
    "    center=True,      \n",
    "    min_periods=45,  \n",
    ").mean()              \n",
    "\n",
    "ax = calls_per_date_df.plot(style=\".\", color=\"0.5\")\n",
    "moving_average.plot(\n",
    "    ax=ax, linewidth=3, title=\"llamadas diarias - 90 -Day Moving Average\", legend=False,)"
   ]
  },
  {
   "cell_type": "code",
   "execution_count": null,
   "metadata": {},
   "outputs": [],
   "source": [
    "# Creación de variables\n",
    "dp = DeterministicProcess(\n",
    "    index=calls_per_date_df.index,\n",
    "    constant=True,\n",
    "    order=1,\n",
    "    drop=True,\n",
    ")"
   ]
  },
  {
   "cell_type": "code",
   "execution_count": null,
   "metadata": {},
   "outputs": [
    {
     "ename": "NameError",
     "evalue": "name 'train_test_split' is not defined",
     "output_type": "error",
     "traceback": [
      "\u001b[1;31m---------------------------------------------------------------------------\u001b[0m",
      "\u001b[1;31mNameError\u001b[0m                                 Traceback (most recent call last)",
      "Cell \u001b[1;32mIn[38], line 2\u001b[0m\n\u001b[0;32m      1\u001b[0m \u001b[38;5;66;03m# Dividir el índice del DataFrame en train y test\u001b[39;00m\n\u001b[1;32m----> 2\u001b[0m train_idx, test_idx \u001b[38;5;241m=\u001b[39m \u001b[43mtrain_test_split\u001b[49m(calls_per_date_df\u001b[38;5;241m.\u001b[39mindex, test_size\u001b[38;5;241m=\u001b[39m\u001b[38;5;241m0.2\u001b[39m, random_state\u001b[38;5;241m=\u001b[39m\u001b[38;5;241m42\u001b[39m)\n\u001b[0;32m      4\u001b[0m \u001b[38;5;66;03m# Usar el índice para dividir el DataFrame en conjuntos de train y test\u001b[39;00m\n\u001b[0;32m      5\u001b[0m calls_per_date_train \u001b[38;5;241m=\u001b[39m calls_per_date_df\u001b[38;5;241m.\u001b[39mloc[train_idx]\n",
      "\u001b[1;31mNameError\u001b[0m: name 'train_test_split' is not defined"
     ]
    }
   ],
   "source": [
    "#  train y test\n",
    "train_idx, test_idx = train_test_split(calls_per_date_df.index, test_size=0.2, random_state=42)\n",
    "\n",
    "\n",
    "calls_per_date_train = calls_per_date_df.loc[train_idx]\n",
    "calls_per_date_test = calls_per_date_df.loc[test_idx]\n"
   ]
  },
  {
   "cell_type": "code",
   "execution_count": null,
   "metadata": {},
   "outputs": [],
   "source": [
    "# Creamos las variables  para el sesgo y la tendencia para train y test\n",
    "dp_train = DeterministicProcess(index=calls_per_date_train.index, constant=True, order=1, drop=True)\n",
    "X_train = dp_train.in_sample()\n",
    "\n",
    "dp_test = DeterministicProcess(index=calls_per_date_test.index, constant=True, order=1, drop=True)\n",
    "X_test = dp_test.in_sample()"
   ]
  },
  {
   "cell_type": "code",
   "execution_count": null,
   "metadata": {},
   "outputs": [
    {
     "data": {
      "text/html": [
       "<style>#sk-container-id-1 {color: black;}#sk-container-id-1 pre{padding: 0;}#sk-container-id-1 div.sk-toggleable {background-color: white;}#sk-container-id-1 label.sk-toggleable__label {cursor: pointer;display: block;width: 100%;margin-bottom: 0;padding: 0.3em;box-sizing: border-box;text-align: center;}#sk-container-id-1 label.sk-toggleable__label-arrow:before {content: \"▸\";float: left;margin-right: 0.25em;color: #696969;}#sk-container-id-1 label.sk-toggleable__label-arrow:hover:before {color: black;}#sk-container-id-1 div.sk-estimator:hover label.sk-toggleable__label-arrow:before {color: black;}#sk-container-id-1 div.sk-toggleable__content {max-height: 0;max-width: 0;overflow: hidden;text-align: left;background-color: #f0f8ff;}#sk-container-id-1 div.sk-toggleable__content pre {margin: 0.2em;color: black;border-radius: 0.25em;background-color: #f0f8ff;}#sk-container-id-1 input.sk-toggleable__control:checked~div.sk-toggleable__content {max-height: 200px;max-width: 100%;overflow: auto;}#sk-container-id-1 input.sk-toggleable__control:checked~label.sk-toggleable__label-arrow:before {content: \"▾\";}#sk-container-id-1 div.sk-estimator input.sk-toggleable__control:checked~label.sk-toggleable__label {background-color: #d4ebff;}#sk-container-id-1 div.sk-label input.sk-toggleable__control:checked~label.sk-toggleable__label {background-color: #d4ebff;}#sk-container-id-1 input.sk-hidden--visually {border: 0;clip: rect(1px 1px 1px 1px);clip: rect(1px, 1px, 1px, 1px);height: 1px;margin: -1px;overflow: hidden;padding: 0;position: absolute;width: 1px;}#sk-container-id-1 div.sk-estimator {font-family: monospace;background-color: #f0f8ff;border: 1px dotted black;border-radius: 0.25em;box-sizing: border-box;margin-bottom: 0.5em;}#sk-container-id-1 div.sk-estimator:hover {background-color: #d4ebff;}#sk-container-id-1 div.sk-parallel-item::after {content: \"\";width: 100%;border-bottom: 1px solid gray;flex-grow: 1;}#sk-container-id-1 div.sk-label:hover label.sk-toggleable__label {background-color: #d4ebff;}#sk-container-id-1 div.sk-serial::before {content: \"\";position: absolute;border-left: 1px solid gray;box-sizing: border-box;top: 0;bottom: 0;left: 50%;z-index: 0;}#sk-container-id-1 div.sk-serial {display: flex;flex-direction: column;align-items: center;background-color: white;padding-right: 0.2em;padding-left: 0.2em;position: relative;}#sk-container-id-1 div.sk-item {position: relative;z-index: 1;}#sk-container-id-1 div.sk-parallel {display: flex;align-items: stretch;justify-content: center;background-color: white;position: relative;}#sk-container-id-1 div.sk-item::before, #sk-container-id-1 div.sk-parallel-item::before {content: \"\";position: absolute;border-left: 1px solid gray;box-sizing: border-box;top: 0;bottom: 0;left: 50%;z-index: -1;}#sk-container-id-1 div.sk-parallel-item {display: flex;flex-direction: column;z-index: 1;position: relative;background-color: white;}#sk-container-id-1 div.sk-parallel-item:first-child::after {align-self: flex-end;width: 50%;}#sk-container-id-1 div.sk-parallel-item:last-child::after {align-self: flex-start;width: 50%;}#sk-container-id-1 div.sk-parallel-item:only-child::after {width: 0;}#sk-container-id-1 div.sk-dashed-wrapped {border: 1px dashed gray;margin: 0 0.4em 0.5em 0.4em;box-sizing: border-box;padding-bottom: 0.4em;background-color: white;}#sk-container-id-1 div.sk-label label {font-family: monospace;font-weight: bold;display: inline-block;line-height: 1.2em;}#sk-container-id-1 div.sk-label-container {text-align: center;}#sk-container-id-1 div.sk-container {/* jupyter's `normalize.less` sets `[hidden] { display: none; }` but bootstrap.min.css set `[hidden] { display: none !important; }` so we also need the `!important` here to be able to override the default hidden behavior on the sphinx rendered scikit-learn.org. See: https://github.com/scikit-learn/scikit-learn/issues/21755 */display: inline-block !important;position: relative;}#sk-container-id-1 div.sk-text-repr-fallback {display: none;}</style><div id=\"sk-container-id-1\" class=\"sk-top-container\"><div class=\"sk-text-repr-fallback\"><pre>LinearRegression(fit_intercept=False)</pre><b>In a Jupyter environment, please rerun this cell to show the HTML representation or trust the notebook. <br />On GitHub, the HTML representation is unable to render, please try loading this page with nbviewer.org.</b></div><div class=\"sk-container\" hidden><div class=\"sk-item\"><div class=\"sk-estimator sk-toggleable\"><input class=\"sk-toggleable__control sk-hidden--visually\" id=\"sk-estimator-id-1\" type=\"checkbox\" checked><label for=\"sk-estimator-id-1\" class=\"sk-toggleable__label sk-toggleable__label-arrow\">LinearRegression</label><div class=\"sk-toggleable__content\"><pre>LinearRegression(fit_intercept=False)</pre></div></div></div></div></div>"
      ],
      "text/plain": [
       "LinearRegression(fit_intercept=False)"
      ]
     },
     "execution_count": 69,
     "metadata": {},
     "output_type": "execute_result"
    }
   ],
   "source": [
    "# Entrenamos el modelo de regresión lineal en el conjunto de train\n",
    "model = LinearRegression(fit_intercept=False)\n",
    "model.fit(X_train, calls_per_date_train[\"CALLS\"])\n"
   ]
  },
  {
   "cell_type": "code",
   "execution_count": null,
   "metadata": {},
   "outputs": [],
   "source": [
    "# Predecimos el número de llamadas en el conjunto de test\n",
    "y_pred_test = pd.Series(model.predict(X_test), index=X_test.index)"
   ]
  },
  {
   "cell_type": "code",
   "execution_count": null,
   "metadata": {},
   "outputs": [
    {
     "name": "stdout",
     "output_type": "stream",
     "text": [
      "R^2: 0.006788818591216161\n"
     ]
    }
   ],
   "source": [
    "\n",
    "print(\"R^2:\", model.score(X_test, calls_per_date_test[\"CALLS\"]))"
   ]
  },
  {
   "cell_type": "code",
   "execution_count": null,
   "metadata": {},
   "outputs": [
    {
     "name": "stdout",
     "output_type": "stream",
     "text": [
      "MAE: 7.45671509183632\n",
      "MSE: 109.0325163590976\n"
     ]
    }
   ],
   "source": [
    "from sklearn.metrics import mean_absolute_error, mean_squared_error\n",
    "\n",
    "\n",
    "# Calcular MAE y MSE en el conjunto de test\n",
    "y_true = calls_per_date_test[\"CALLS\"]\n",
    "y_pred = y_pred_test\n",
    "\n",
    "mae = mean_absolute_error(y_true, y_pred)\n",
    "mse = mean_squared_error(y_true, y_pred)\n",
    "\n",
    "print(\"MAE:\", mae)\n",
    "print(\"MSE:\", mse)"
   ]
  },
  {
   "cell_type": "code",
   "execution_count": null,
   "metadata": {},
   "outputs": [],
   "source": [
    "\n",
    "llamadas_con_datos = calls_per_date_df[calls_per_date_df['CALLS'].notna()]\n",
    "\n",
    "# Recalculamos calls_april usando el DataFrame filtrado\n",
    "llamadas_abril = llamadas_con_datos[\"2021-03\":]\n"
   ]
  },
  {
   "cell_type": "code",
   "execution_count": null,
   "metadata": {},
   "outputs": [],
   "source": [
    "\n",
    "plot_params = {\n",
    "    \"kind\": \"line\",\n",
    "    \"title\": \"Llamadas diarias - Pronóstico de tendencia lineal\"\n",
    "}\n"
   ]
  },
  {
   "cell_type": "code",
   "execution_count": null,
   "metadata": {},
   "outputs": [
    {
     "data": {
      "image/png": "[encoded data removed]",
      "text/plain": [
       "<Figure size 640x480 with 1 Axes>"
      ]
     },
     "metadata": {},
     "output_type": "display_data"
    }
   ],
   "source": [
    "# gráfico\n",
    "ax = calls_april.plot(**plot_params)\n",
    "ax = y_pred_april.plot(ax=ax, linewidth=3, label=\"Tendencia\")\n",
    "ax = y_fore_april.plot(ax=ax, linewidth=3, label=\"Pronóstico de tendencia\", color=\"C3\")\n",
    "\n",
    "\n",
    "ax.legend()\n",
    "\n",
    "\n",
    "plt.show()"
   ]
  },
  {
   "cell_type": "markdown",
   "metadata": {},
   "source": [
    "_________________________________________________________________________________________________________"
   ]
  },
  {
   "cell_type": "markdown",
   "metadata": {},
   "source": [
    "## Intento Mejora de Modelo N°5"
   ]
  },
  {
   "cell_type": "code",
   "execution_count": 52,
   "metadata": {},
   "outputs": [
    {
     "name": "stdout",
     "output_type": "stream",
     "text": [
      "Mean Squared Error (MSE): 159.9070618032613\n",
      "Mean Absolute Error (MAE): 8.940134744245187\n",
      "R cuadrado (R^2): -0.5410436652069204\n"
     ]
    }
   ],
   "source": [
    "import numpy as np\n",
    "import pandas as pd\n",
    "import seaborn as sns\n",
    "from statsmodels.tsa.statespace.sarimax import SARIMAX\n",
    "from sklearn.metrics import mean_absolute_error, mean_squared_error, r2_score\n",
    "\n",
    "\n",
    "dataset = r\"C:\\Users\\Lucia\\Desktop\\PROYECTO_MLP_PABLO_XAVIER\\PROYECTO_MLP_PABLO_XAVIER_MENDEZ\\src\\data\\process\\telecom.csv\"\n",
    "df = pd.read_csv(dataset, parse_dates=['DATE'])\n",
    "\n",
    "\n",
    "llamadas_por_fecha = df.groupby(\"DATE\").size()\n",
    "\n",
    "# Convertir a DataFrame\n",
    "llamadas_por_fecha_df = pd.DataFrame(llamadas_por_fecha, columns=[\"CALLS\"])\n",
    "\n",
    "# Agregamos índice\n",
    "llamadas_por_fecha_df.index = pd.to_datetime(llamadas_por_fecha_df.index).to_period('D')\n",
    "\n",
    "#train y test\n",
    "proporcion_entrenamiento = 0.8\n",
    "corte = int(len(llamadas_por_fecha_df) * proporcion_entrenamiento)\n",
    "entrenamiento, prueba = llamadas_por_fecha_df.iloc[:corte], llamadas_por_fecha_df.iloc[corte:]\n",
    "\n",
    "# Modelo SARIMAX \n",
    "modelo = SARIMAX(entrenamiento['CALLS'], \n",
    "                 order=(1, 1, 1), \n",
    "                 seasonal_order=(1, 1, 1, 2))\n",
    "resultado = modelo.fit()\n",
    "\n",
    "\n",
    "pronostico = resultado.forecast(steps=len(prueba))\n",
    "\n",
    "# Cálculo de métricas\n",
    "mse = mean_squared_error(prueba['CALLS'], pronostico)\n",
    "mae = mean_absolute_error(prueba['CALLS'], pronostico)\n",
    "r2 = r2_score(prueba['CALLS'], pronostico)\n",
    "\n",
    "print(f\"Mean Squared Error (MSE): {mse}\")\n",
    "print(f\"Mean Absolute Error (MAE): {mae}\")\n",
    "print(f\"R cuadrado (R^2): {r2}\")"
   ]
  },
  {
   "cell_type": "markdown",
   "metadata": {},
   "source": [
    "__________________________________________________________________________________________________"
   ]
  },
  {
   "cell_type": "markdown",
   "metadata": {},
   "source": [
    "## Intento Mejora de Modelo N°6"
   ]
  },
  {
   "cell_type": "code",
   "execution_count": 53,
   "metadata": {},
   "outputs": [
    {
     "name": "stdout",
     "output_type": "stream",
     "text": [
      "Mean Squared Error (MSE): 349.2437003417906\n",
      "Mean Absolute Error (MAE): 15.76019517767041\n",
      "R cuadrado (R^2): -2.2319424425484966\n"
     ]
    }
   ],
   "source": [
    "fecha_division = pd.Period(\"2021-01-31\")  # Ajusta esta fecha a tu caso específico\n",
    "datos_entrenamiento = llamadas_por_fecha_df[llamadas_por_fecha_df.index < fecha_division]\n",
    "datos_prueba = llamadas_por_fecha_df[llamadas_por_fecha_df.index >= fecha_division]\n",
    "\n",
    "# Modelo SARIMAX test 2\n",
    "modelo = SARIMAX(datos_entrenamiento['CALLS'], \n",
    "                 order=(1, 1, 1), \n",
    "                 seasonal_order=(1, 1, 1, 2),\n",
    "                 enforce_stationarity=False,\n",
    "                 enforce_invertibility=False)\n",
    "\n",
    "resultado = modelo.fit()\n",
    "\n",
    "# Realizamos predicciones\n",
    "predicciones = resultado.get_forecast(steps=len(datos_prueba))\n",
    "predicciones_ci = predicciones.conf_int()\n",
    "predicciones_mean = predicciones.predicted_mean\n",
    "\n",
    "# metricas\n",
    "mse = mean_squared_error(datos_prueba['CALLS'], predicciones_mean)\n",
    "mae = mean_absolute_error(datos_prueba['CALLS'], predicciones_mean)\n",
    "r2 = r2_score(datos_prueba['CALLS'], predicciones_mean)\n",
    "\n",
    "print(f\"Mean Squared Error (MSE): {mse}\")\n",
    "print(f\"Mean Absolute Error (MAE): {mae}\")\n",
    "print(f\"R cuadrado (R^2): {r2}\")\n"
   ]
  },
  {
   "cell_type": "markdown",
   "metadata": {},
   "source": [
    "_________________________________________________________________________________________"
   ]
  },
  {
   "cell_type": "markdown",
   "metadata": {},
   "source": [
    "### Conclusiones"
   ]
  },
  {
   "cell_type": "code",
   "execution_count": null,
   "metadata": {},
   "outputs": [
    {
     "data": {
      "text/plain": [
       "1478.643453924354"
      ]
     },
     "execution_count": 33,
     "metadata": {},
     "output_type": "execute_result"
    }
   ],
   "source": [
    "y_fore_april.sum()"
   ]
  },
  {
   "cell_type": "code",
   "execution_count": null,
   "metadata": {},
   "outputs": [],
   "source": [
    "llamadas_por_agente = df.groupby('AGENT')['CALL ID'].count()"
   ]
  },
  {
   "cell_type": "code",
   "execution_count": null,
   "metadata": {},
   "outputs": [
    {
     "data": {
      "image/png": "[encoded data removed]",
      "text/plain": [
       "<Figure size 1000x600 with 1 Axes>"
      ]
     },
     "metadata": {},
     "output_type": "display_data"
    }
   ],
   "source": [
    "llamadas_por_agente1 = pd.DataFrame(llamadas_por_agente)\n",
    "\n",
    "plt.figure(figsize=(10, 6))\n",
    "sns.barplot(x='AGENT', y='CALL ID', data=llamadas_por_agente1, palette='viridis')\n",
    "plt.title('Número de Llamadas por Agente')\n",
    "plt.xlabel('Agente')\n",
    "plt.ylabel('Número de Llamadas')\n",
    "plt.show()"
   ]
  },
  {
   "cell_type": "code",
   "execution_count": null,
   "metadata": {},
   "outputs": [
    {
     "data": {
      "text/plain": [
       "AGENT\n",
       "Becky      631\n",
       "Dan        633\n",
       "Diane      633\n",
       "Greg       624\n",
       "Jim        666\n",
       "Joe        593\n",
       "Martha     638\n",
       "Stewart    582\n",
       "Name: CALL ID, dtype: int64"
      ]
     },
     "execution_count": 36,
     "metadata": {},
     "output_type": "execute_result"
    }
   ],
   "source": [
    "llamadas_por_agente\n"
   ]
  },
  {
   "cell_type": "code",
   "execution_count": null,
   "metadata": {},
   "outputs": [
    {
     "data": {
      "text/plain": [
       "5000"
      ]
     },
     "execution_count": 37,
     "metadata": {},
     "output_type": "execute_result"
    }
   ],
   "source": [
    "df.DAY_OF_THE_WEEK.count()"
   ]
  },
  {
   "cell_type": "markdown",
   "metadata": {},
   "source": [
    "## imagen generada en el EDA"
   ]
  },
  {
   "cell_type": "markdown",
   "metadata": {},
   "source": [
    "![Texto alternativo](img/llamadasporhora.png)"
   ]
  },
  {
   "cell_type": "code",
   "execution_count": null,
   "metadata": {},
   "outputs": [
    {
     "name": "stdout",
     "output_type": "stream",
     "text": [
      "<class 'pandas.core.frame.DataFrame'>\n",
      "RangeIndex: 5000 entries, 0 to 4999\n",
      "Data columns (total 11 columns):\n",
      " #   Column                      Non-Null Count  Dtype         \n",
      "---  ------                      --------------  -----         \n",
      " 0   CALL ID                     5000 non-null   object        \n",
      " 1   AGENT                       5000 non-null   object        \n",
      " 2   DATE                        5000 non-null   datetime64[ns]\n",
      " 3   DAY_OF_THE_WEEK             5000 non-null   object        \n",
      " 4   TIME                        5000 non-null   object        \n",
      " 5   TOPIC                       5000 non-null   object        \n",
      " 6   ANSWERED (Y/N)              5000 non-null   object        \n",
      " 7   RESOLVED                    5000 non-null   object        \n",
      " 8   SPEED OF ANSWER IN SECONDS  4054 non-null   float64       \n",
      " 9   AVGTALKDURATION             5000 non-null   object        \n",
      " 10  SATISFACTION RATING         4054 non-null   float64       \n",
      "dtypes: datetime64[ns](1), float64(2), object(8)\n",
      "memory usage: 429.8+ KB\n"
     ]
    }
   ],
   "source": [
    "df.info()"
   ]
  },
  {
   "cell_type": "code",
   "execution_count": null,
   "metadata": {},
   "outputs": [],
   "source": [
    "#traaemos este dato realizo en el EDA a fines practicos para el analisis que vamos a realizar"
   ]
  },
  {
   "cell_type": "code",
   "execution_count": null,
   "metadata": {},
   "outputs": [
    {
     "name": "stdout",
     "output_type": "stream",
     "text": [
      "Recuento de días únicos de la semana:\n",
      "DAY_OF_THE_WEEK\n",
      "Friday       13\n",
      "Saturday     13\n",
      "Sunday       13\n",
      "Monday       13\n",
      "Tuesday      13\n",
      "Wednesday    13\n",
      "Thursday     12\n",
      "Name: count, dtype: int64\n"
     ]
    }
   ],
   "source": [
    "df_sin_duplicados = df.drop_duplicates(subset='DATE')\n",
    "\n",
    "# Contar cuántos días únicos de la semana hay\n",
    "dias_semana_unicos_count = df_sin_duplicados['DAY_OF_THE_WEEK'].value_counts()\n",
    "\n",
    "print(\"Recuento de días únicos de la semana:\")\n",
    "print(dias_semana_unicos_count)"
   ]
  },
  {
   "cell_type": "code",
   "execution_count": null,
   "metadata": {},
   "outputs": [
    {
     "name": "stdout",
     "output_type": "stream",
     "text": [
      "Días de la semana trabajados por cada agente:\n",
      "DAY_OF_THE_WEEK  Friday  Monday  Saturday  Sunday  Thursday  Tuesday  \\\n",
      "AGENT                                                                  \n",
      "Becky                94     113       108      90        76       79   \n",
      "Dan                  72      96       113      90        91       89   \n",
      "Diane                97      87        93     100        81       93   \n",
      "Greg                 79      86       103      89        89       94   \n",
      "Jim                  94     111        84     102        96       80   \n",
      "Joe                  81      83        73      91        88       91   \n",
      "Martha               72     101       102      78       112       83   \n",
      "Stewart              91      93        92      76        79       66   \n",
      "\n",
      "DAY_OF_THE_WEEK  Wednesday  \n",
      "AGENT                       \n",
      "Becky                   71  \n",
      "Dan                     82  \n",
      "Diane                   82  \n",
      "Greg                    84  \n",
      "Jim                     99  \n",
      "Joe                     86  \n",
      "Martha                  90  \n",
      "Stewart                 85  \n"
     ]
    }
   ],
   "source": [
    "import pandas as pd\n",
    "\n",
    "# Suponiendo que df es tu DataFrame que contiene los datos\n",
    "\n",
    "df['DAY_OF_THE_WEEK'] = pd.to_datetime(df['DATE']).dt.day_name()\n",
    "\n",
    "\n",
    "dias_trabajados_por_agente = df.groupby(['AGENT', 'DAY_OF_THE_WEEK']).size().unstack(fill_value=0)\n",
    "\n",
    "print(\"Días de la semana trabajados por cada agente:\")\n",
    "print(dias_trabajados_por_agente)"
   ]
  },
  {
   "cell_type": "markdown",
   "metadata": {},
   "source": [
    "### se predice que para el proximo mes Abril ingresarian 1479 llamadas lo cual supera el capacity actual, dado que cada agente puede gesrionar en promedio 169 llamadas, siendo 8 agentes el capacity soportado mensualmente es de 1352 llamadas, esto sumado a que hay pico de llamados, provoca un desbordamiento de llamados y esto podria explicar en gran medida la tasa de abandono del 19%.\n",
    "\n",
    "### Se recomienda realizar un discovery para mejorar los tiempos operativos de gestion o bien alternativas para aumentar el capacity actual por ejemplo un agente adicional o VA.\n",
    "\n",
    "\n"
   ]
  },
  {
   "cell_type": "code",
   "execution_count": null,
   "metadata": {},
   "outputs": [
    {
     "name": "stdout",
     "output_type": "stream",
     "text": [
      "MONTH\n",
      "1    317\n",
      "2    318\n",
      "3    311\n",
      "dtype: int64\n"
     ]
    }
   ],
   "source": [
    "df['DATE'] = pd.to_datetime(df['DATE'])\n",
    "\n",
    "# Crear una nueva columna 'MONTH' que contenga el mes de cada fecha\n",
    "df['MONTH'] = df['DATE'].dt.month\n",
    "\n",
    "# Filtrar las llamadas que no fueron atendidas\n",
    "llamadas_no_atendidas = df[df['ANSWERED (Y/N)'] == 'N']\n",
    "\n",
    "# Contar cuántas llamadas no atendidas hay en cada mes\n",
    "llamadas_no_atendidas_por_mes = llamadas_no_atendidas.groupby('MONTH').size()\n",
    "\n",
    "# Mostrar el resultado\n",
    "print(llamadas_no_atendidas_por_mes)"
   ]
  },
  {
   "cell_type": "markdown",
   "metadata": {},
   "source": [
    "### Se verifi que todos los meses no se atienden un 19 % de los lamados totales ingresados, identificamos  picos de llamados los lunes y viernes en horarios cerca del almuerzo y cercanos a las 18 horas"
   ]
  },
  {
   "cell_type": "code",
   "execution_count": null,
   "metadata": {},
   "outputs": [
    {
     "name": "stdout",
     "output_type": "stream",
     "text": [
      "<class 'pandas.core.frame.DataFrame'>\n",
      "RangeIndex: 5000 entries, 0 to 4999\n",
      "Data columns (total 12 columns):\n",
      " #   Column                      Non-Null Count  Dtype          \n",
      "---  ------                      --------------  -----          \n",
      " 0   CALL ID                     5000 non-null   object         \n",
      " 1   AGENT                       5000 non-null   object         \n",
      " 2   DATE                        5000 non-null   datetime64[ns] \n",
      " 3   DAY_OF_THE_WEEK             5000 non-null   object         \n",
      " 4   TIME                        5000 non-null   timedelta64[ns]\n",
      " 5   TOPIC                       5000 non-null   object         \n",
      " 6   ANSWERED (Y/N)              5000 non-null   object         \n",
      " 7   RESOLVED                    5000 non-null   object         \n",
      " 8   SPEED OF ANSWER IN SECONDS  4054 non-null   float64        \n",
      " 9   AVGTALKDURATION             5000 non-null   timedelta64[ns]\n",
      " 10  SATISFACTION RATING         4054 non-null   float64        \n",
      " 11  MONTH                       5000 non-null   int32          \n",
      "dtypes: datetime64[ns](1), float64(2), int32(1), object(6), timedelta64[ns](2)\n",
      "memory usage: 449.3+ KB\n"
     ]
    }
   ],
   "source": [
    "df['TIME'] = pd.to_timedelta(df['TIME'])\n",
    "df['AVGTALKDURATION'] = pd.to_timedelta(df['AVGTALKDURATION'])\n",
    "df.info()"
   ]
  },
  {
   "cell_type": "code",
   "execution_count": null,
   "metadata": {},
   "outputs": [
    {
     "name": "stdout",
     "output_type": "stream",
     "text": [
      "TIME\n",
      "(0 days 09:00:00, 0 days 10:00:00]    529\n",
      "(0 days 10:00:00, 0 days 11:00:00]    529\n",
      "(0 days 11:00:00, 0 days 12:00:00]    618\n",
      "(0 days 12:00:00, 0 days 13:00:00]    519\n",
      "(0 days 13:00:00, 0 days 14:00:00]    594\n",
      "(0 days 14:00:00, 0 days 15:00:00]    513\n",
      "(0 days 15:00:00, 0 days 16:00:00]    517\n",
      "(0 days 16:00:00, 0 days 17:00:00]    566\n",
      "(0 days 17:00:00, 0 days 18:00:00]    597\n",
      "dtype: int64\n"
     ]
    }
   ],
   "source": [
    "hourly_intervals = pd.cut(df['TIME'], bins=pd.timedelta_range(start=df['TIME'].min(), end=df['TIME'].max(), freq='1H'))\n",
    "\n",
    "\n",
    "llamadas_por_hora_agrupado_no_atendidas = df.groupby(hourly_intervals).size()\n",
    "\n",
    "print(llamadas_por_hora_agrupado_no_atendidas)"
   ]
  },
  {
   "cell_type": "code",
   "execution_count": null,
   "metadata": {},
   "outputs": [
    {
     "name": "stdout",
     "output_type": "stream",
     "text": [
      "TIME\n",
      "0 days 09:00:00    18\n",
      "0 days 09:01:26    13\n",
      "0 days 09:02:53    12\n",
      "0 days 09:04:19    10\n",
      "0 days 09:05:46    19\n",
      "                   ..\n",
      "0 days 17:54:14     8\n",
      "0 days 17:55:41     8\n",
      "0 days 17:57:07    24\n",
      "0 days 17:58:34    10\n",
      "0 days 18:00:00    14\n",
      "Length: 375, dtype: int64\n"
     ]
    }
   ],
   "source": [
    "llamadas_por_hora = df.groupby('TIME').size()\n",
    "\n",
    "print(llamadas_por_hora)"
   ]
  },
  {
   "cell_type": "code",
   "execution_count": null,
   "metadata": {},
   "outputs": [
    {
     "data": {
      "text/plain": [
       "(375,)"
      ]
     },
     "execution_count": 46,
     "metadata": {},
     "output_type": "execute_result"
    }
   ],
   "source": [
    "llamadas_por_hora.shape"
   ]
  },
  {
   "cell_type": "code",
   "execution_count": null,
   "metadata": {},
   "outputs": [],
   "source": []
  },
  {
   "cell_type": "code",
   "execution_count": null,
   "metadata": {},
   "outputs": [
    {
     "name": "stdout",
     "output_type": "stream",
     "text": [
      "TIME\n",
      "(0 days 09:00:00, 0 days 09:01:00]     0\n",
      "(0 days 09:01:00, 0 days 09:02:00]    13\n",
      "(0 days 09:02:00, 0 days 09:03:00]    12\n",
      "(0 days 09:03:00, 0 days 09:04:00]     0\n",
      "(0 days 09:04:00, 0 days 09:05:00]    10\n",
      "                                      ..\n",
      "(0 days 17:55:00, 0 days 17:56:00]     8\n",
      "(0 days 17:56:00, 0 days 17:57:00]     0\n",
      "(0 days 17:57:00, 0 days 17:58:00]    24\n",
      "(0 days 17:58:00, 0 days 17:59:00]    10\n",
      "(0 days 17:59:00, 0 days 18:00:00]    14\n",
      "Length: 540, dtype: int64\n"
     ]
    }
   ],
   "source": [
    "\n",
    "\n",
    "# Definir los intervalos de 1 minuto\n",
    "one_minute_intervals = pd.cut(df['TIME'], bins=pd.timedelta_range(start=df['TIME'].min(), end=df['TIME'].max(), freq='1min'))\n",
    "\n",
    "# Agrupar y contar el número de llamadas por intervalo de 10 minutos\n",
    "llamadas_por_intervalo_1min = df.groupby(one_minute_intervals).size()\n",
    "\n",
    "print(llamadas_por_intervalo_1min)"
   ]
  },
  {
   "cell_type": "code",
   "execution_count": null,
   "metadata": {},
   "outputs": [
    {
     "data": {
      "text/plain": [
       "(540,)"
      ]
     },
     "execution_count": 48,
     "metadata": {},
     "output_type": "execute_result"
    }
   ],
   "source": [
    "llamadas_por_intervalo_1min.shape"
   ]
  }
 ],
 "metadata": {
  "kernelspec": {
   "display_name": "Python 3",
   "language": "python",
   "name": "python3"
  },
  "language_info": {
   "codemirror_mode": {
    "name": "ipython",
    "version": 3
   },
   "file_extension": ".py",
   "mimetype": "text/x-python",
   "name": "python",
   "nbconvert_exporter": "python",
   "pygments_lexer": "ipython3",
   "version": "3.12.0"
  }
 },
 "nbformat": 4,
 "nbformat_minor": 2
}
